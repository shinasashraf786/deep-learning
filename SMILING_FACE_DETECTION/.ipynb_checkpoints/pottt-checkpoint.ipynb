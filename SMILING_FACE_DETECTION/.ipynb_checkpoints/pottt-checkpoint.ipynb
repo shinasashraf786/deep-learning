{
 "cells": [
  {
   "cell_type": "code",
   "execution_count": 1,
   "metadata": {
    "id": "4LFEX46sLH2f"
   },
   "outputs": [],
   "source": [
    "import cv2\n",
    "facecascade = cv2.CascadeClassifier('haarcascade_frontalface_default.xml')"
   ]
  },
  {
   "cell_type": "code",
   "execution_count": 2,
   "metadata": {
    "id": "OD0cJOYgQbaC"
   },
   "outputs": [],
   "source": [
    "image = cv2.imread('poto.jpeg')\n",
    "gray = cv2.cvtColor(image,cv2.COLOR_BGR2GRAY)"
   ]
  },
  {
   "cell_type": "markdown",
   "metadata": {
    "id": "yxRPiNnEQ3Hh"
   },
   "source": [
    "Scale Factor - Parameter specifying how much the image size\n",
    "\n",
    "is reduced\n",
    "\n",
    "minneighbors - parameter specifying how many neighbours\n",
    "\n",
    "each candidate rectangle show\n",
    "\n",
    "minsize - minimum possible object size . Object smaller than\n",
    "\n",
    "that are ignored"
   ]
  },
  {
   "cell_type": "code",
   "execution_count": 3,
   "metadata": {
    "id": "jUvgeF7mRTsD"
   },
   "outputs": [],
   "source": [
    "faces = facecascade.detectMultiScale(gray,scaleFactor=1.1,minNeighbors=7,minSize=(30,30))\n"
   ]
  },
  {
   "cell_type": "code",
   "execution_count": 4,
   "metadata": {
    "colab": {
     "base_uri": "https://localhost:8080/"
    },
    "id": "tsSi5aPcRwPR",
    "outputId": "8da7dfd9-4882-48bd-9a68-0fafb423c497"
   },
   "outputs": [
    {
     "name": "stdout",
     "output_type": "stream",
     "text": [
      "Found 8 faces! \n",
      "[[401  57  96  96]\n",
      " [196  57  75  75]\n",
      " [323 130  74  74]\n",
      " [123 184  68  68]\n",
      " [224 211  91  91]\n",
      " [440 242  88  88]\n",
      " [288 283  72  72]\n",
      " [348 264  82  82]]\n"
     ]
    }
   ],
   "source": [
    "print(\"Found {0} faces! \".format(len(faces)))\n",
    "print(faces)\n",
    "\n",
    "for (x,y,w,h) in faces:\n",
    "  cv2.rectangle(image, (x,y),(x+w, y+h),(0,0,255),5)\n"
   ]
  },
  {
   "cell_type": "code",
   "execution_count": null,
   "metadata": {
    "colab": {
     "base_uri": "https://localhost:8080/",
     "height": 393
    },
    "id": "uP8lBdx5YLq2",
    "outputId": "b085670d-050a-4c5a-ad7f-a598c0233002"
   },
   "outputs": [],
   "source": [
    "cv2.imshow(\"faces\", image)\n",
    "cv2.waitKey(0)\n",
    "cv2.destroyAllWindows()"
   ]
  },
  {
   "cell_type": "code",
   "execution_count": null,
   "metadata": {},
   "outputs": [],
   "source": []
  },
  {
   "cell_type": "code",
   "execution_count": null,
   "metadata": {},
   "outputs": [],
   "source": []
  }
 ],
 "metadata": {
  "colab": {
   "provenance": []
  },
  "kernelspec": {
   "display_name": "Python 3 (ipykernel)",
   "language": "python",
   "name": "python3"
  },
  "language_info": {
   "codemirror_mode": {
    "name": "ipython",
    "version": 3
   },
   "file_extension": ".py",
   "mimetype": "text/x-python",
   "name": "python",
   "nbconvert_exporter": "python",
   "pygments_lexer": "ipython3",
   "version": "3.11.5"
  }
 },
 "nbformat": 4,
 "nbformat_minor": 1
}
