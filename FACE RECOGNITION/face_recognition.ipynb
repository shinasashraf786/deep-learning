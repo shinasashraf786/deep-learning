{
 "cells": [
  {
   "cell_type": "code",
   "execution_count": 1,
   "id": "e36afb79",
   "metadata": {},
   "outputs": [
    {
     "name": "stdout",
     "output_type": "stream",
     "text": [
      "Requirement already satisfied: face_recognition in /Users/apple/anaconda3/lib/python3.11/site-packages (1.3.0)\n",
      "Requirement already satisfied: face-recognition-models>=0.3.0 in /Users/apple/anaconda3/lib/python3.11/site-packages (from face_recognition) (0.3.0)\n",
      "Requirement already satisfied: Click>=6.0 in /Users/apple/anaconda3/lib/python3.11/site-packages (from face_recognition) (8.0.4)\n",
      "Requirement already satisfied: dlib>=19.7 in /Users/apple/anaconda3/lib/python3.11/site-packages (from face_recognition) (19.24.2)\n",
      "Requirement already satisfied: numpy in /Users/apple/anaconda3/lib/python3.11/site-packages (from face_recognition) (1.24.3)\n",
      "Requirement already satisfied: Pillow in /Users/apple/anaconda3/lib/python3.11/site-packages (from face_recognition) (10.0.1)\n",
      "Note: you may need to restart the kernel to use updated packages.\n"
     ]
    }
   ],
   "source": [
    "pip install face_recognition"
   ]
  },
  {
   "cell_type": "code",
   "execution_count": 2,
   "id": "bcac1ca0",
   "metadata": {},
   "outputs": [
    {
     "name": "stdout",
     "output_type": "stream",
     "text": [
      "Requirement already satisfied: cmake in /Users/apple/anaconda3/lib/python3.11/site-packages (3.28.3)\n",
      "Note: you may need to restart the kernel to use updated packages.\n"
     ]
    }
   ],
   "source": [
    "pip install cmake"
   ]
  },
  {
   "cell_type": "code",
   "execution_count": 3,
   "id": "42e42482",
   "metadata": {},
   "outputs": [],
   "source": [
    "import os\n",
    "import cv2\n",
    "import numpy as np\n",
    "import face_recognition"
   ]
  },
  {
   "cell_type": "markdown",
   "id": "aa9ceb66",
   "metadata": {},
   "source": [
    "The face recognilion Ibrary in Pythan is primarily used for facial recognition tasks. Il provides varlous functions to detect, recognize, and manipulate laces in Images and videos. Some of its key functionalities Include:\n",
    "Face Detection: Locating faces within an image or a frame of a video.\n",
    "Facial Landmarks: Identilying specific points on a face, like eyes, nose, mouth, etc.\n",
    "Face Encoding: Generating a numerical representation (face encodings) of a face from an image.\n",
    "Face Recognitton: Comparing face encodings to recognize and match faces across different images or videas. Manipulation: Cropping, resizing, or manipulating faces in images or videos. Face Clustering: Grouping similar faces together based on their characteristics.\n"
   ]
  },
  {
   "cell_type": "code",
   "execution_count": 4,
   "id": "0ccd8f60",
   "metadata": {},
   "outputs": [],
   "source": [
    "path='image'"
   ]
  },
  {
   "cell_type": "code",
   "execution_count": 5,
   "id": "3cfc70d1",
   "metadata": {},
   "outputs": [],
   "source": [
    "images=[]\n",
    "classnames=[]\n",
    "\n",
    "mylist=os.listdir(path)"
   ]
  },
  {
   "cell_type": "code",
   "execution_count": 6,
   "id": "4bc091f9",
   "metadata": {},
   "outputs": [
    {
     "data": {
      "text/plain": [
       "['.DS_Store', 'jayu.JPG', 'mammu.JPG', 'mohanu.JPG', 'suruu.JPG']"
      ]
     },
     "execution_count": 6,
     "metadata": {},
     "output_type": "execute_result"
    }
   ],
   "source": [
    "mylist"
   ]
  },
  {
   "cell_type": "code",
   "execution_count": 7,
   "id": "bc468896",
   "metadata": {},
   "outputs": [
    {
     "ename": "NameError",
     "evalue": "name 'i' is not defined",
     "output_type": "error",
     "traceback": [
      "\u001b[0;31m---------------------------------------------------------------------------\u001b[0m",
      "\u001b[0;31mNameError\u001b[0m                                 Traceback (most recent call last)",
      "Cell \u001b[0;32mIn[7], line 2\u001b[0m\n\u001b[1;32m      1\u001b[0m \u001b[38;5;28;01mfor\u001b[39;00m img \u001b[38;5;129;01min\u001b[39;00m mylist:\n\u001b[0;32m----> 2\u001b[0m     currentimage\u001b[38;5;241m=\u001b[39mcv2\u001b[38;5;241m.\u001b[39mimread(os\u001b[38;5;241m.\u001b[39mpath\u001b[38;5;241m.\u001b[39mjoin(path,i))\n\u001b[1;32m      3\u001b[0m     images\u001b[38;5;241m.\u001b[39mappend(currentimage)\n\u001b[1;32m      4\u001b[0m     classnames\u001b[38;5;241m.\u001b[39mappend(os\u001b[38;5;241m.\u001b[39mpath\u001b[38;5;241m.\u001b[39msplitext(i)[\u001b[38;5;241m0\u001b[39m])\n",
      "\u001b[0;31mNameError\u001b[0m: name 'i' is not defined"
     ]
    }
   ],
   "source": [
    "for img in mylist:\n",
    "    currentimage=cv2.imread(os.path.join(path,i))\n",
    "    images.append(currentimage)\n",
    "    classnames.append(os.path.splitext(i)[0])"
   ]
  },
  {
   "cell_type": "code",
   "execution_count": null,
   "id": "f116bd68",
   "metadata": {},
   "outputs": [],
   "source": [
    "images"
   ]
  },
  {
   "cell_type": "code",
   "execution_count": null,
   "id": "022f182c",
   "metadata": {},
   "outputs": [],
   "source": [
    "classnames"
   ]
  },
  {
   "cell_type": "code",
   "execution_count": null,
   "id": "53583a3f",
   "metadata": {},
   "outputs": [],
   "source": [
    "def findencoding(a):\n",
    "    encodelist=[]\n",
    "    \n",
    "    for img in images:\n",
    "        i=cv2.cvtColor(img,cv2.COLOR_BGR2RGB)\n",
    "        encode=face_recognition.face_encodings(img)[0]\n",
    "        encodelist.append(encode)\n",
    "        \n",
    "    return encodelist\n",
    "\n",
    "\n",
    "encodelistknownfaces=findencoding(images)"
   ]
  },
  {
   "cell_type": "code",
   "execution_count": null,
   "id": "1f15e6de",
   "metadata": {},
   "outputs": [],
   "source": [
    "import cv2\n",
    "\n",
    "def findencoding(images):\n",
    "    encodelist = []\n",
    "    for i in images:\n",
    "        if i is not None:  # Check if the image is not empty\n",
    "            img = cv2.cvtColor(i, cv2.COLOR_BGR2RGB)\n",
    "            encode = face_recognition.face_encodings(i)[0]\n",
    "            encodelist.append(encode)\n",
    "        else:\n",
    "            print('Failed to load one of the images')\n",
    "\n",
    "    return encodelist\n",
    "\n",
    "encodelistknownfaces = findencoding(images)\n"
   ]
  },
  {
   "cell_type": "code",
   "execution_count": null,
   "id": "ba257437",
   "metadata": {},
   "outputs": [],
   "source": [
    "cap=cv2.VideoCapture(0)\n",
    "\n",
    "while True:\n",
    "\n",
    "    sucess,img = cap.read()\n",
    "    imagesmall = cv2.resize(img,(0,0),None,0.25,0.25)\n",
    "    \n",
    "    # img: The image you want to resize.\n",
    "    # (0, 0): Output image size. Here, it means the output size will be calculated based on the scaling factors provided.\n",
    "    # None: Not specifying an output size directly.\n",
    "    # 0.25, 0.25: The scaling factors for the horizontal and vertical axes, respectively. In this case, the image will be\n",
    "    # reduced to 25% of its original size in both dimensions.\n",
    "\n",
    "    face_in_frame = face_recognition.face_locations(imagesmall)\n",
    "    \n",
    "    #The face_locations function in face_recognition is used to find face locations (bounding box coordinates) within an image.\n",
    "    # 'face_locations' now contains the bounding box coordinates of detected faces\n",
    "    # [(top, right, bottom, left), ...] for each face found in the image\n",
    "    \n",
    "    encoded_face = face_recognition.face_encodings(imagesmall,face_in_frame)\n",
    "\n",
    "    #printiface in framel\n",
    "\n",
    "    for encodeface, faceloc in zip(encoded_face,face_in_frame): \n",
    "        matches = face_recognition.compare_faces(encodelistknownfaces,encodeface)\n",
    "        \n",
    "        #It appears that you're using the face_recognition library to compare faces. The compare_faces() \n",
    "        #function in this library is typically used to compare a list of known face encodings to \n",
    "        #the encoding of a single face, determining if they match or not.\n",
    "\n",
    "\n",
    "\n",
    "        #encodelistknownfaces: This should be a list containing the known face encodings, usually\n",
    "        #representing the encodings of faces you've already stored or identified as \"known.\"\n",
    "        \n",
    "        #encodeface: This is the face encoding you want to compare against the known faces.\n",
    "        \n",
    "        \n",
    "        facedistance = face_recognition.face_distance(encodelistknownfaces,encodeface)\n",
    "        \n",
    "        #computes the Euclidean distance between a single face encoding (represented by encodeface) and a list of \n",
    "        #known face encodings (in encodelistknownfaces). This distance metric measures the similarity between face \n",
    "        #encodings. Smaller distances indicate more similar faces.\n",
    "\n",
    "\n",
    "        #print(facedistance)\n",
    "\n",
    "        matchindex = np.argmin(facedistance)\n",
    "\n",
    "\n",
    "                    \n",
    "        if matches[matchindex]:\n",
    "                                    \n",
    "            name = classNames[matchindex] \n",
    "            print(name)\n",
    "\n",
    "\n",
    "            y1,x2,y2,x1 = faceloc\n",
    "            y1,x2,y2,x1 = y1*4,x2*4,y2*4,x1*4\n",
    "            cv2.rectangle(img,(x1,y1),(x2,y2),(0,255,0),2)\n",
    "            cv2.rectangle(img,(x1,y2-35),(x2,y2),(0,0,0),cv2.FILLED) \n",
    "            cv2.putText(img,name,(x1+6,y2-5),cv2.FONT_HERSHEY_COMPLEX,1,(0,255,0),2)\n",
    "\n",
    "\n",
    "\n",
    "    cv2.imshow('mask detection',img)\n",
    "    key=cv2.waitKey(1)\n",
    "    \n",
    "    if(key==27):\n",
    "        break\n",
    "        \n",
    "\n",
    "cap.release()        \n",
    "cv2.destroyAllWindows()\n"
   ]
  },
  {
   "cell_type": "code",
   "execution_count": null,
   "id": "0ce6ca0f",
   "metadata": {},
   "outputs": [],
   "source": []
  },
  {
   "cell_type": "code",
   "execution_count": null,
   "id": "2ae129e1",
   "metadata": {},
   "outputs": [],
   "source": []
  }
 ],
 "metadata": {
  "kernelspec": {
   "display_name": "Python 3 (ipykernel)",
   "language": "python",
   "name": "python3"
  },
  "language_info": {
   "codemirror_mode": {
    "name": "ipython",
    "version": 3
   },
   "file_extension": ".py",
   "mimetype": "text/x-python",
   "name": "python",
   "nbconvert_exporter": "python",
   "pygments_lexer": "ipython3",
   "version": "3.11.7"
  }
 },
 "nbformat": 4,
 "nbformat_minor": 5
}
