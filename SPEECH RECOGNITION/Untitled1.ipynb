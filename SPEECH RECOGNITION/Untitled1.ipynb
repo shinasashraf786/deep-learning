{
 "cells": [
  {
   "cell_type": "code",
   "execution_count": 1,
   "id": "840ccd04",
   "metadata": {},
   "outputs": [
    {
     "name": "stdout",
     "output_type": "stream",
     "text": [
      "Requirement already satisfied: SpeechRecognition in /opt/anaconda3/lib/python3.11/site-packages (3.10.4)\n",
      "Requirement already satisfied: requests>=2.26.0 in /opt/anaconda3/lib/python3.11/site-packages (from SpeechRecognition) (2.31.0)\n",
      "Requirement already satisfied: typing-extensions in /opt/anaconda3/lib/python3.11/site-packages (from SpeechRecognition) (4.9.0)\n",
      "Requirement already satisfied: charset-normalizer<4,>=2 in /opt/anaconda3/lib/python3.11/site-packages (from requests>=2.26.0->SpeechRecognition) (2.0.4)\n",
      "Requirement already satisfied: idna<4,>=2.5 in /opt/anaconda3/lib/python3.11/site-packages (from requests>=2.26.0->SpeechRecognition) (3.4)\n",
      "Requirement already satisfied: urllib3<3,>=1.21.1 in /opt/anaconda3/lib/python3.11/site-packages (from requests>=2.26.0->SpeechRecognition) (2.0.7)\n",
      "Requirement already satisfied: certifi>=2017.4.17 in /opt/anaconda3/lib/python3.11/site-packages (from requests>=2.26.0->SpeechRecognition) (2024.2.2)\n",
      "Note: you may need to restart the kernel to use updated packages.\n"
     ]
    }
   ],
   "source": [
    "pip install SpeechRecognition\n"
   ]
  },
  {
   "cell_type": "code",
   "execution_count": 3,
   "id": "f86025fc",
   "metadata": {},
   "outputs": [
    {
     "name": "stdout",
     "output_type": "stream",
     "text": [
      "Adjusting for ambient noise, please wait...\n",
      "Ready to listen. Say something:\n",
      "Recognizing...\n",
      "You said: are you listening actually are you listening\n"
     ]
    }
   ],
   "source": [
    "import speech_recognition as sr\n",
    "\n",
    "def recognize_speech_from_microphone():\n",
    "    # Initialize the recognizer\n",
    "    recognizer = sr.Recognizer()\n",
    "\n",
    "    # Use the microphone as the audio source\n",
    "    with sr.Microphone() as source:\n",
    "        # Adjust the recognizer sensitivity to ambient noise\n",
    "        print(\"Adjusting for ambient noise, please wait...\")\n",
    "        recognizer.adjust_for_ambient_noise(source, duration=5)\n",
    "        print(\"Ready to listen. Say something:\")\n",
    "\n",
    "        # Listen for the first phrase and extract it into audio data\n",
    "        audio = recognizer.listen(source)\n",
    "\n",
    "    # Try to recognize the speech in the audio\n",
    "    try:\n",
    "        print(\"Recognizing...\")\n",
    "        # Recognize speech using Google Web Speech API\n",
    "        text = recognizer.recognize_google(audio)\n",
    "        print(\"You said: \" + text)\n",
    "    except sr.UnknownValueError:\n",
    "        # If the speech is unintelligible\n",
    "        print(\"Sorry, I could not understand the audio.\")\n",
    "    except sr.RequestError as e:\n",
    "        # If there is an API request error\n",
    "        print(f\"Could not request results from Google Speech Recognition service; {e}\")\n",
    "\n",
    "if __name__ == \"__main__\":\n",
    "    recognize_speech_from_microphone()\n"
   ]
  },
  {
   "cell_type": "markdown",
   "id": "8df8c689",
   "metadata": {},
   "source": [
    "The adjust_for_ambient_noise method adjusts the recognizer’s sensitivity to ambient noise. The duration=5 means it will listen to the background noise for 5 seconds to set the threshold. This helps the recognizer to better differentiate between background noise and actual speech.\n",
    "\n",
    "\n",
    "This block attempts to recognize the speech in the audio using Google's Web Speech API through the recognize_google method. If successful, the recognized text is printed.\n",
    "\n",
    "\n",
    "\n",
    "except sr.UnknownValueError:\n",
    "    print(\"Sorry, I could not understand the audio.\")\n",
    "If the recognizer cannot understand the audio (e.g., the speech is unclear), it raises an UnknownValueError. This block catches that exception and prints an error message.\n",
    "python\n",
    "\n",
    "\n",
    "except sr.RequestError as e:\n",
    "    print(f\"Could not request results from Google Speech Recognition service; {e}\")\n",
    "If there is a problem with the API request (e.g., no internet connection), it raises a RequestError. This block catches that exception and prints an error message along with the exception details.\n",
    "\n",
    "\n",
    "\n",
    "\n",
    "if __name__ == \"__main__\":\n",
    "    recognize_speech_from_microphone()\n",
    "This condition checks if the script is being run directly (as opposed to being imported as a module). If it is, it calls the recognize_speech_from_microphone function to start the speech recognition process.\n",
    "\n",
    "\n"
   ]
  },
  {
   "cell_type": "code",
   "execution_count": null,
   "id": "bd89edbc",
   "metadata": {},
   "outputs": [],
   "source": []
  }
 ],
 "metadata": {
  "kernelspec": {
   "display_name": "Python 3 (ipykernel)",
   "language": "python",
   "name": "python3"
  },
  "language_info": {
   "codemirror_mode": {
    "name": "ipython",
    "version": 3
   },
   "file_extension": ".py",
   "mimetype": "text/x-python",
   "name": "python",
   "nbconvert_exporter": "python",
   "pygments_lexer": "ipython3",
   "version": "3.11.7"
  }
 },
 "nbformat": 4,
 "nbformat_minor": 5
}
