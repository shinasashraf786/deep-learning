{
 "cells": [
  {
   "cell_type": "markdown",
   "id": "bafb6536",
   "metadata": {},
   "source": [
    "speech recognition\n",
    "\n",
    "speech recognition library in Python serves the purpose of providing developers with a convenient and easy-to-use\n",
    "\n",
    "interface for performing speech recognition tasks within python programs.It allows you to transcribe speech from \n",
    "\n",
    "various audio sources from various audio sources such as microphone input,audio files,or audio streams\n",
    "\n",
    "The primary purpose of library is to transcribe spoken language into text\n"
   ]
  },
  {
   "cell_type": "code",
   "execution_count": 1,
   "id": "85de41ef",
   "metadata": {},
   "outputs": [
    {
     "name": "stdout",
     "output_type": "stream",
     "text": [
      "Requirement already satisfied: speechrecognition in /opt/anaconda3/envs/testenv/lib/python3.9/site-packages (3.10.4)\n",
      "Requirement already satisfied: requests>=2.26.0 in /opt/anaconda3/envs/testenv/lib/python3.9/site-packages (from speechrecognition) (2.31.0)\n",
      "Requirement already satisfied: typing-extensions in /opt/anaconda3/envs/testenv/lib/python3.9/site-packages (from speechrecognition) (3.7.4.3)\n",
      "Requirement already satisfied: charset-normalizer<4,>=2 in /opt/anaconda3/envs/testenv/lib/python3.9/site-packages (from requests>=2.26.0->speechrecognition) (3.3.2)\n",
      "Requirement already satisfied: idna<4,>=2.5 in /opt/anaconda3/envs/testenv/lib/python3.9/site-packages (from requests>=2.26.0->speechrecognition) (3.7)\n",
      "Requirement already satisfied: urllib3<3,>=1.21.1 in /opt/anaconda3/envs/testenv/lib/python3.9/site-packages (from requests>=2.26.0->speechrecognition) (2.2.1)\n",
      "Requirement already satisfied: certifi>=2017.4.17 in /opt/anaconda3/envs/testenv/lib/python3.9/site-packages (from requests>=2.26.0->speechrecognition) (2024.2.2)\n",
      "Note: you may need to restart the kernel to use updated packages.\n"
     ]
    }
   ],
   "source": [
    "pip install speechrecognition"
   ]
  },
  {
   "cell_type": "markdown",
   "id": "ae6be2ca",
   "metadata": {},
   "source": [
    "This Recognizer object will be used to recognize speech from various sources.\n",
    "with sr.Microphone) as source: This line sets up a context manager to work with the microphone as the audio source. It ensures that the microphone is property opened and closed, releasing system resources when not in use.\n",
    "radjust_for _ambient _noise(source, duration=1): It listens to the ambient noise for 1 second (duration=1) and adjusts the recognizer's energy threshold accordingly to filter out background noise during speech recognition.\n",
    "audio = r.listen(source): captures audio from the microphone source until there is a pause in the speech or the timeout is reached. It listens for speech input\n",
    "from the user and stores the captured audio data in the audio variable.\n",
    "text = r.recognize _google(audio): This line attempts to recognize speech from the captured audio using the recognize _google() method. It transcribes the\n",
    "audio into text and stores the result in the text variable.\n"
   ]
  },
  {
   "cell_type": "code",
   "execution_count": 2,
   "id": "d86046be",
   "metadata": {},
   "outputs": [
    {
     "name": "stdout",
     "output_type": "stream",
     "text": [
      "Requirement already satisfied: pyaudio in /opt/anaconda3/envs/testenv/lib/python3.9/site-packages (0.2.14)\n",
      "Note: you may need to restart the kernel to use updated packages.\n"
     ]
    }
   ],
   "source": [
    "pip install pyaudio   #to access mic"
   ]
  },
  {
   "cell_type": "code",
   "execution_count": 10,
   "id": "d570cd58",
   "metadata": {},
   "outputs": [
    {
     "name": "stdout",
     "output_type": "stream",
     "text": [
      "say something : \n",
      "sorry,could not recognize\n"
     ]
    }
   ],
   "source": [
    "import speech_recognition as sr\n",
    "\n",
    "r = sr.Recognizer()\n",
    "\n",
    "with sr.Microphone() as source:\n",
    "                  r.adjust_for_ambient_noise(source,duration=5)\n",
    "                  #r.energy_threshold()\n",
    "                  print(\"say something : \")\n",
    "                  audio = r.listen(source)\n",
    "                  try:\n",
    "                    text = r.recognize_google(audio)\n",
    "                    print(text)\n",
    "                  except:\n",
    "                    print(\"sorry,could not recognize\")\n"
   ]
  },
  {
   "cell_type": "code",
   "execution_count": null,
   "id": "6886e7a5",
   "metadata": {},
   "outputs": [],
   "source": [
    "import speech_recognition as sr\n",
    "\n",
    "# Initialize the recognizer\n",
    "r = sr.Recognizer()\n",
    "\n",
    "# Use the microphone as the audio source\n",
    "with sr.Microphone() as source:\n",
    "    # Adjust the recognizer sensitivity to ambient noise\n",
    "    r.adjust_for_ambient_noise(source, duration=5)\n",
    "    print(\"Say something: \")\n",
    "    \n",
    "    # Listen for the first phrase and extract it into audio data\n",
    "    audio = r.listen(source)\n",
    "\n",
    "    try:\n",
    "        # Recognize speech using Google Web Speech API\n",
    "        text = r.recognize_google(audio)\n",
    "        print(\"You said: \" + text)\n",
    "    except sr.UnknownValueError:\n",
    "        # If the speech is unintelligible\n",
    "        print(\"Sorry, could not recognize your speech.\")\n",
    "    except sr.RequestError as e:\n",
    "        # If there is an API request error\n",
    "        print(f\"Could not request results from Google Speech Recognition service; {e}\")\n"
   ]
  },
  {
   "cell_type": "code",
   "execution_count": 4,
   "id": "0face52c",
   "metadata": {},
   "outputs": [],
   "source": [
    "import speech_recognition as sr\n",
    "recognizer = sr.Recognizer()\n",
    "audio_file_ = sr.AudioFile(\"audio_myfile.wav\")"
   ]
  },
  {
   "cell_type": "code",
   "execution_count": 6,
   "id": "aa5b0552",
   "metadata": {},
   "outputs": [
    {
     "ename": "AttributeError",
     "evalue": "'Recognizer' object has no attribute 'recognize_google'",
     "output_type": "error",
     "traceback": [
      "\u001b[0;31m---------------------------------------------------------------------------\u001b[0m",
      "\u001b[0;31mAttributeError\u001b[0m                            Traceback (most recent call last)",
      "Cell \u001b[0;32mIn[6], line 3\u001b[0m\n\u001b[1;32m      1\u001b[0m \u001b[38;5;28;01mwith\u001b[39;00m audio_file_ \u001b[38;5;28;01mas\u001b[39;00m start:\n\u001b[1;32m      2\u001b[0m     audio_file \u001b[38;5;241m=\u001b[39m recognizer\u001b[38;5;241m.\u001b[39mrecord(start)\n\u001b[0;32m----> 3\u001b[0m     text \u001b[38;5;241m=\u001b[39m \u001b[43mrecognizer\u001b[49m\u001b[38;5;241;43m.\u001b[39;49m\u001b[43mrecognize_google\u001b[49m(audio_data \u001b[38;5;241m=\u001b[39m audio_file)\n\u001b[1;32m      5\u001b[0m     \u001b[38;5;28mprint\u001b[39m(text)\n",
      "\u001b[0;31mAttributeError\u001b[0m: 'Recognizer' object has no attribute 'recognize_google'"
     ]
    }
   ],
   "source": [
    "with audio_file_ as start:\n",
    "    audio_file = recognizer.record(start)\n",
    "    text = recognizer.recognize_google(audio_data = audio_file)\n",
    "    \n",
    "    print(text)"
   ]
  },
  {
   "cell_type": "code",
   "execution_count": null,
   "id": "a37247f9",
   "metadata": {},
   "outputs": [],
   "source": []
  }
 ],
 "metadata": {
  "kernelspec": {
   "display_name": "testenv",
   "language": "python",
   "name": "testenv"
  },
  "language_info": {
   "codemirror_mode": {
    "name": "ipython",
    "version": 3
   },
   "file_extension": ".py",
   "mimetype": "text/x-python",
   "name": "python",
   "nbconvert_exporter": "python",
   "pygments_lexer": "ipython3",
   "version": "3.9.15"
  }
 },
 "nbformat": 4,
 "nbformat_minor": 5
}
