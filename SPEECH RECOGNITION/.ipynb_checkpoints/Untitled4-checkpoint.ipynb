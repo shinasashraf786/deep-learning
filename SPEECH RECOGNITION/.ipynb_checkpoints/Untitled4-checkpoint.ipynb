{
 "cells": [
  {
   "cell_type": "code",
   "execution_count": 12,
   "id": "28fdb37c",
   "metadata": {},
   "outputs": [
    {
     "name": "stdout",
     "output_type": "stream",
     "text": [
      "Requirement already satisfied: gtts in /opt/anaconda3/lib/python3.11/site-packages (2.5.2)\n",
      "Requirement already satisfied: requests<3,>=2.27 in /opt/anaconda3/lib/python3.11/site-packages (from gtts) (2.31.0)\n",
      "Requirement already satisfied: click<8.2,>=7.1 in /opt/anaconda3/lib/python3.11/site-packages (from gtts) (8.1.7)\n",
      "Requirement already satisfied: charset-normalizer<4,>=2 in /opt/anaconda3/lib/python3.11/site-packages (from requests<3,>=2.27->gtts) (2.0.4)\n",
      "Requirement already satisfied: idna<4,>=2.5 in /opt/anaconda3/lib/python3.11/site-packages (from requests<3,>=2.27->gtts) (3.4)\n",
      "Requirement already satisfied: urllib3<3,>=1.21.1 in /opt/anaconda3/lib/python3.11/site-packages (from requests<3,>=2.27->gtts) (2.0.7)\n",
      "Requirement already satisfied: certifi>=2017.4.17 in /opt/anaconda3/lib/python3.11/site-packages (from requests<3,>=2.27->gtts) (2024.2.2)\n",
      "Note: you may need to restart the kernel to use updated packages.\n"
     ]
    }
   ],
   "source": [
    "pip install gtts"
   ]
  },
  {
   "cell_type": "code",
   "execution_count": 13,
   "id": "5736d45b",
   "metadata": {},
   "outputs": [],
   "source": [
    "from gtts import gTTS\n",
    "import os"
   ]
  },
  {
   "cell_type": "code",
   "execution_count": null,
   "id": "95f8afe6",
   "metadata": {},
   "outputs": [],
   "source": [
    "gtts is the Google Text-to-Speech library used to convert text into speech.\n",
    "os is a standard library in Python that provides a way of using operating system dependent functionality like reading or writing to the file system and executing system commands."
   ]
  },
  {
   "cell_type": "code",
   "execution_count": 15,
   "id": "e600454e",
   "metadata": {},
   "outputs": [
    {
     "name": "stdout",
     "output_type": "stream",
     "text": [
      "Saved TTS to output.mp3\n"
     ]
    },
    {
     "name": "stderr",
     "output_type": "stream",
     "text": [
      "sh: start: command not found\n"
     ]
    }
   ],
   "source": [
    "def text_to_speech(text, output_file):\n",
    "    # Convert text to speech\n",
    "    tts = gTTS(text=text, lang='en')\n",
    "    # Save the speech to an audio file\n",
    "    tts.save(output_file)\n",
    "    print(f\"Saved TTS to {output_file}\")\n",
    "    # Play the audio file (Windows)\n",
    "    os.system(f\"start {output_file}\")\n",
    "\n",
    "if __name__ == \"__main__\":\n",
    "    # Define the text to be converted to speech\n",
    "    text = \"Bibi Mon happy alleeeeeeeeeeeeeeeeeeeeeeee\"\n",
    "    # Define the output file name\n",
    "    output_file = \"output.mp3\"\n",
    "    # Call the function\n",
    "    text_to_speech(text, output_file)"
   ]
  },
  {
   "cell_type": "code",
   "execution_count": null,
   "id": "f2202840",
   "metadata": {},
   "outputs": [],
   "source": [
    "The save method saves the generated speech to an audio file specified by output_file.\n",
    "The print statement confirms that the file has been saved successfully.\n",
    "\n",
    "os.system(f\"start {output_file}\")\n",
    "os.system executes the specified command in the system's command line.\n",
    "start {output_file} is a command specific to Windows that opens the file using the default application associated with the file type (in this case, it plays the MP3 file).\n",
    "\n",
    "if __name__ == \"__main__\":\n",
    "    text = \"Bibi Mon happy alleeeeeeeeeeeeeeeeeeeeeeee\"\n",
    "    output_file = \"output.mp3\"\n",
    "    text_to_speech(text, output_file)\n",
    "This block checks if the script is being run directly (not imported as a module in another script).\n",
    "It defines the text to be converted and the name of the output file.\n",
    "It calls the text_to_speech function with the defined text and output file name.\n"
   ]
  },
  {
   "cell_type": "code",
   "execution_count": 16,
   "id": "255492f0",
   "metadata": {},
   "outputs": [],
   "source": [
    "#Offline Method"
   ]
  },
  {
   "cell_type": "code",
   "execution_count": 20,
   "id": "d554f4e8",
   "metadata": {},
   "outputs": [
    {
     "name": "stdout",
     "output_type": "stream",
     "text": [
      "Requirement already satisfied: pyttsx3 in /opt/anaconda3/lib/python3.11/site-packages (2.90)\n",
      "Requirement already satisfied: pyobjc>=2.4 in /opt/anaconda3/lib/python3.11/site-packages (from pyttsx3) (10.3.1)\n",
      "Requirement already satisfied: pyobjc-core==10.3.1 in /opt/anaconda3/lib/python3.11/site-packages (from pyobjc>=2.4->pyttsx3) (10.3.1)\n",
      "Requirement already satisfied: pyobjc-framework-AddressBook==10.3.1 in /opt/anaconda3/lib/python3.11/site-packages (from pyobjc>=2.4->pyttsx3) (10.3.1)\n",
      "Requirement already satisfied: pyobjc-framework-AppleScriptKit==10.3.1 in /opt/anaconda3/lib/python3.11/site-packages (from pyobjc>=2.4->pyttsx3) (10.3.1)\n",
      "Requirement already satisfied: pyobjc-framework-ApplicationServices==10.3.1 in /opt/anaconda3/lib/python3.11/site-packages (from pyobjc>=2.4->pyttsx3) (10.3.1)\n",
      "Requirement already satisfied: pyobjc-framework-Automator==10.3.1 in /opt/anaconda3/lib/python3.11/site-packages (from pyobjc>=2.4->pyttsx3) (10.3.1)\n",
      "Requirement already satisfied: pyobjc-framework-CFNetwork==10.3.1 in /opt/anaconda3/lib/python3.11/site-packages (from pyobjc>=2.4->pyttsx3) (10.3.1)\n",
      "Requirement already satisfied: pyobjc-framework-Cocoa==10.3.1 in /opt/anaconda3/lib/python3.11/site-packages (from pyobjc>=2.4->pyttsx3) (10.3.1)\n",
      "Requirement already satisfied: pyobjc-framework-CoreAudio==10.3.1 in /opt/anaconda3/lib/python3.11/site-packages (from pyobjc>=2.4->pyttsx3) (10.3.1)\n",
      "Requirement already satisfied: pyobjc-framework-CoreAudioKit==10.3.1 in /opt/anaconda3/lib/python3.11/site-packages (from pyobjc>=2.4->pyttsx3) (10.3.1)\n",
      "Requirement already satisfied: pyobjc-framework-CoreData==10.3.1 in /opt/anaconda3/lib/python3.11/site-packages (from pyobjc>=2.4->pyttsx3) (10.3.1)\n",
      "Requirement already satisfied: pyobjc-framework-CoreMIDI==10.3.1 in /opt/anaconda3/lib/python3.11/site-packages (from pyobjc>=2.4->pyttsx3) (10.3.1)\n",
      "Requirement already satisfied: pyobjc-framework-CoreServices==10.3.1 in /opt/anaconda3/lib/python3.11/site-packages (from pyobjc>=2.4->pyttsx3) (10.3.1)\n",
      "Requirement already satisfied: pyobjc-framework-CoreText==10.3.1 in /opt/anaconda3/lib/python3.11/site-packages (from pyobjc>=2.4->pyttsx3) (10.3.1)\n",
      "Requirement already satisfied: pyobjc-framework-DiscRecording==10.3.1 in /opt/anaconda3/lib/python3.11/site-packages (from pyobjc>=2.4->pyttsx3) (10.3.1)\n",
      "Requirement already satisfied: pyobjc-framework-DiscRecordingUI==10.3.1 in /opt/anaconda3/lib/python3.11/site-packages (from pyobjc>=2.4->pyttsx3) (10.3.1)\n",
      "Requirement already satisfied: pyobjc-framework-DiskArbitration==10.3.1 in /opt/anaconda3/lib/python3.11/site-packages (from pyobjc>=2.4->pyttsx3) (10.3.1)\n",
      "Requirement already satisfied: pyobjc-framework-DVDPlayback==10.3.1 in /opt/anaconda3/lib/python3.11/site-packages (from pyobjc>=2.4->pyttsx3) (10.3.1)\n",
      "Requirement already satisfied: pyobjc-framework-ExceptionHandling==10.3.1 in /opt/anaconda3/lib/python3.11/site-packages (from pyobjc>=2.4->pyttsx3) (10.3.1)\n",
      "Requirement already satisfied: pyobjc-framework-InstallerPlugins==10.3.1 in /opt/anaconda3/lib/python3.11/site-packages (from pyobjc>=2.4->pyttsx3) (10.3.1)\n",
      "Requirement already satisfied: pyobjc-framework-IOBluetooth==10.3.1 in /opt/anaconda3/lib/python3.11/site-packages (from pyobjc>=2.4->pyttsx3) (10.3.1)\n",
      "Requirement already satisfied: pyobjc-framework-IOBluetoothUI==10.3.1 in /opt/anaconda3/lib/python3.11/site-packages (from pyobjc>=2.4->pyttsx3) (10.3.1)\n",
      "Requirement already satisfied: pyobjc-framework-LatentSemanticMapping==10.3.1 in /opt/anaconda3/lib/python3.11/site-packages (from pyobjc>=2.4->pyttsx3) (10.3.1)\n",
      "Requirement already satisfied: pyobjc-framework-LaunchServices==10.3.1 in /opt/anaconda3/lib/python3.11/site-packages (from pyobjc>=2.4->pyttsx3) (10.3.1)\n",
      "Requirement already satisfied: pyobjc-framework-OSAKit==10.3.1 in /opt/anaconda3/lib/python3.11/site-packages (from pyobjc>=2.4->pyttsx3) (10.3.1)\n",
      "Requirement already satisfied: pyobjc-framework-PreferencePanes==10.3.1 in /opt/anaconda3/lib/python3.11/site-packages (from pyobjc>=2.4->pyttsx3) (10.3.1)\n",
      "Requirement already satisfied: pyobjc-framework-Quartz==10.3.1 in /opt/anaconda3/lib/python3.11/site-packages (from pyobjc>=2.4->pyttsx3) (10.3.1)\n",
      "Requirement already satisfied: pyobjc-framework-ScreenSaver==10.3.1 in /opt/anaconda3/lib/python3.11/site-packages (from pyobjc>=2.4->pyttsx3) (10.3.1)\n",
      "Requirement already satisfied: pyobjc-framework-Security==10.3.1 in /opt/anaconda3/lib/python3.11/site-packages (from pyobjc>=2.4->pyttsx3) (10.3.1)\n",
      "Requirement already satisfied: pyobjc-framework-SecurityFoundation==10.3.1 in /opt/anaconda3/lib/python3.11/site-packages (from pyobjc>=2.4->pyttsx3) (10.3.1)\n",
      "Requirement already satisfied: pyobjc-framework-SecurityInterface==10.3.1 in /opt/anaconda3/lib/python3.11/site-packages (from pyobjc>=2.4->pyttsx3) (10.3.1)\n",
      "Requirement already satisfied: pyobjc-framework-SearchKit==10.3.1 in /opt/anaconda3/lib/python3.11/site-packages (from pyobjc>=2.4->pyttsx3) (10.3.1)\n",
      "Requirement already satisfied: pyobjc-framework-SyncServices==10.3.1 in /opt/anaconda3/lib/python3.11/site-packages (from pyobjc>=2.4->pyttsx3) (10.3.1)\n",
      "Requirement already satisfied: pyobjc-framework-SystemConfiguration==10.3.1 in /opt/anaconda3/lib/python3.11/site-packages (from pyobjc>=2.4->pyttsx3) (10.3.1)\n",
      "Requirement already satisfied: pyobjc-framework-WebKit==10.3.1 in /opt/anaconda3/lib/python3.11/site-packages (from pyobjc>=2.4->pyttsx3) (10.3.1)\n",
      "Requirement already satisfied: pyobjc-framework-AppleScriptObjC==10.3.1 in /opt/anaconda3/lib/python3.11/site-packages (from pyobjc>=2.4->pyttsx3) (10.3.1)\n",
      "Requirement already satisfied: pyobjc-framework-CoreLocation==10.3.1 in /opt/anaconda3/lib/python3.11/site-packages (from pyobjc>=2.4->pyttsx3) (10.3.1)\n",
      "Requirement already satisfied: pyobjc-framework-CoreWLAN==10.3.1 in /opt/anaconda3/lib/python3.11/site-packages (from pyobjc>=2.4->pyttsx3) (10.3.1)\n",
      "Requirement already satisfied: pyobjc-framework-ImageCaptureCore==10.3.1 in /opt/anaconda3/lib/python3.11/site-packages (from pyobjc>=2.4->pyttsx3) (10.3.1)\n",
      "Requirement already satisfied: pyobjc-framework-IOSurface==10.3.1 in /opt/anaconda3/lib/python3.11/site-packages (from pyobjc>=2.4->pyttsx3) (10.3.1)\n",
      "Requirement already satisfied: pyobjc-framework-NetFS==10.3.1 in /opt/anaconda3/lib/python3.11/site-packages (from pyobjc>=2.4->pyttsx3) (10.3.1)\n",
      "Requirement already satisfied: pyobjc-framework-OpenDirectory==10.3.1 in /opt/anaconda3/lib/python3.11/site-packages (from pyobjc>=2.4->pyttsx3) (10.3.1)\n",
      "Requirement already satisfied: pyobjc-framework-ServiceManagement==10.3.1 in /opt/anaconda3/lib/python3.11/site-packages (from pyobjc>=2.4->pyttsx3) (10.3.1)\n",
      "Requirement already satisfied: pyobjc-framework-iTunesLibrary==10.3.1 in /opt/anaconda3/lib/python3.11/site-packages (from pyobjc>=2.4->pyttsx3) (10.3.1)\n",
      "Requirement already satisfied: pyobjc-framework-AVFoundation==10.3.1 in /opt/anaconda3/lib/python3.11/site-packages (from pyobjc>=2.4->pyttsx3) (10.3.1)\n",
      "Requirement already satisfied: pyobjc-framework-CoreMedia==10.3.1 in /opt/anaconda3/lib/python3.11/site-packages (from pyobjc>=2.4->pyttsx3) (10.3.1)\n",
      "Requirement already satisfied: pyobjc-framework-CoreMediaIO==10.3.1 in /opt/anaconda3/lib/python3.11/site-packages (from pyobjc>=2.4->pyttsx3) (10.3.1)\n",
      "Requirement already satisfied: pyobjc-framework-StoreKit==10.3.1 in /opt/anaconda3/lib/python3.11/site-packages (from pyobjc>=2.4->pyttsx3) (10.3.1)\n",
      "Requirement already satisfied: pyobjc-framework-SceneKit==10.3.1 in /opt/anaconda3/lib/python3.11/site-packages (from pyobjc>=2.4->pyttsx3) (10.3.1)\n",
      "Requirement already satisfied: pyobjc-framework-libdispatch==10.3.1 in /opt/anaconda3/lib/python3.11/site-packages (from pyobjc>=2.4->pyttsx3) (10.3.1)\n",
      "Requirement already satisfied: pyobjc-framework-libxpc==10.3.1 in /opt/anaconda3/lib/python3.11/site-packages (from pyobjc>=2.4->pyttsx3) (10.3.1)\n",
      "Requirement already satisfied: pyobjc-framework-AudioVideoBridging==10.3.1 in /opt/anaconda3/lib/python3.11/site-packages (from pyobjc>=2.4->pyttsx3) (10.3.1)\n",
      "Requirement already satisfied: pyobjc-framework-Accounts==10.3.1 in /opt/anaconda3/lib/python3.11/site-packages (from pyobjc>=2.4->pyttsx3) (10.3.1)\n",
      "Requirement already satisfied: pyobjc-framework-EventKit==10.3.1 in /opt/anaconda3/lib/python3.11/site-packages (from pyobjc>=2.4->pyttsx3) (10.3.1)\n",
      "Requirement already satisfied: pyobjc-framework-GameCenter==10.3.1 in /opt/anaconda3/lib/python3.11/site-packages (from pyobjc>=2.4->pyttsx3) (10.3.1)\n",
      "Requirement already satisfied: pyobjc-framework-Social==10.3.1 in /opt/anaconda3/lib/python3.11/site-packages (from pyobjc>=2.4->pyttsx3) (10.3.1)\n",
      "Requirement already satisfied: pyobjc-framework-GameKit==10.3.1 in /opt/anaconda3/lib/python3.11/site-packages (from pyobjc>=2.4->pyttsx3) (10.3.1)\n",
      "Requirement already satisfied: pyobjc-framework-VideoToolbox==10.3.1 in /opt/anaconda3/lib/python3.11/site-packages (from pyobjc>=2.4->pyttsx3) (10.3.1)\n",
      "Requirement already satisfied: pyobjc-framework-AVKit==10.3.1 in /opt/anaconda3/lib/python3.11/site-packages (from pyobjc>=2.4->pyttsx3) (10.3.1)\n",
      "Requirement already satisfied: pyobjc-framework-GameController==10.3.1 in /opt/anaconda3/lib/python3.11/site-packages (from pyobjc>=2.4->pyttsx3) (10.3.1)\n",
      "Requirement already satisfied: pyobjc-framework-MapKit==10.3.1 in /opt/anaconda3/lib/python3.11/site-packages (from pyobjc>=2.4->pyttsx3) (10.3.1)\n",
      "Requirement already satisfied: pyobjc-framework-MediaAccessibility==10.3.1 in /opt/anaconda3/lib/python3.11/site-packages (from pyobjc>=2.4->pyttsx3) (10.3.1)\n",
      "Requirement already satisfied: pyobjc-framework-MediaLibrary==10.3.1 in /opt/anaconda3/lib/python3.11/site-packages (from pyobjc>=2.4->pyttsx3) (10.3.1)\n",
      "Requirement already satisfied: pyobjc-framework-MediaToolbox==10.3.1 in /opt/anaconda3/lib/python3.11/site-packages (from pyobjc>=2.4->pyttsx3) (10.3.1)\n",
      "Requirement already satisfied: pyobjc-framework-SpriteKit==10.3.1 in /opt/anaconda3/lib/python3.11/site-packages (from pyobjc>=2.4->pyttsx3) (10.3.1)\n",
      "Requirement already satisfied: pyobjc-framework-CloudKit==10.3.1 in /opt/anaconda3/lib/python3.11/site-packages (from pyobjc>=2.4->pyttsx3) (10.3.1)\n",
      "Requirement already satisfied: pyobjc-framework-CoreBluetooth==10.3.1 in /opt/anaconda3/lib/python3.11/site-packages (from pyobjc>=2.4->pyttsx3) (10.3.1)\n",
      "Requirement already satisfied: pyobjc-framework-CryptoTokenKit==10.3.1 in /opt/anaconda3/lib/python3.11/site-packages (from pyobjc>=2.4->pyttsx3) (10.3.1)\n",
      "Requirement already satisfied: pyobjc-framework-FinderSync==10.3.1 in /opt/anaconda3/lib/python3.11/site-packages (from pyobjc>=2.4->pyttsx3) (10.3.1)\n",
      "Requirement already satisfied: pyobjc-framework-LocalAuthentication==10.3.1 in /opt/anaconda3/lib/python3.11/site-packages (from pyobjc>=2.4->pyttsx3) (10.3.1)\n"
     ]
    },
    {
     "name": "stdout",
     "output_type": "stream",
     "text": [
      "Requirement already satisfied: pyobjc-framework-MultipeerConnectivity==10.3.1 in /opt/anaconda3/lib/python3.11/site-packages (from pyobjc>=2.4->pyttsx3) (10.3.1)\n",
      "Requirement already satisfied: pyobjc-framework-NotificationCenter==10.3.1 in /opt/anaconda3/lib/python3.11/site-packages (from pyobjc>=2.4->pyttsx3) (10.3.1)\n",
      "Requirement already satisfied: pyobjc-framework-Contacts==10.3.1 in /opt/anaconda3/lib/python3.11/site-packages (from pyobjc>=2.4->pyttsx3) (10.3.1)\n",
      "Requirement already satisfied: pyobjc-framework-ContactsUI==10.3.1 in /opt/anaconda3/lib/python3.11/site-packages (from pyobjc>=2.4->pyttsx3) (10.3.1)\n",
      "Requirement already satisfied: pyobjc-framework-Metal==10.3.1 in /opt/anaconda3/lib/python3.11/site-packages (from pyobjc>=2.4->pyttsx3) (10.3.1)\n",
      "Requirement already satisfied: pyobjc-framework-MetalKit==10.3.1 in /opt/anaconda3/lib/python3.11/site-packages (from pyobjc>=2.4->pyttsx3) (10.3.1)\n",
      "Requirement already satisfied: pyobjc-framework-ModelIO==10.3.1 in /opt/anaconda3/lib/python3.11/site-packages (from pyobjc>=2.4->pyttsx3) (10.3.1)\n",
      "Requirement already satisfied: pyobjc-framework-NetworkExtension==10.3.1 in /opt/anaconda3/lib/python3.11/site-packages (from pyobjc>=2.4->pyttsx3) (10.3.1)\n",
      "Requirement already satisfied: pyobjc-framework-Photos==10.3.1 in /opt/anaconda3/lib/python3.11/site-packages (from pyobjc>=2.4->pyttsx3) (10.3.1)\n",
      "Requirement already satisfied: pyobjc-framework-PhotosUI==10.3.1 in /opt/anaconda3/lib/python3.11/site-packages (from pyobjc>=2.4->pyttsx3) (10.3.1)\n",
      "Requirement already satisfied: pyobjc-framework-GameplayKit==10.3.1 in /opt/anaconda3/lib/python3.11/site-packages (from pyobjc>=2.4->pyttsx3) (10.3.1)\n",
      "Requirement already satisfied: pyobjc-framework-Intents==10.3.1 in /opt/anaconda3/lib/python3.11/site-packages (from pyobjc>=2.4->pyttsx3) (10.3.1)\n",
      "Requirement already satisfied: pyobjc-framework-MediaPlayer==10.3.1 in /opt/anaconda3/lib/python3.11/site-packages (from pyobjc>=2.4->pyttsx3) (10.3.1)\n",
      "Requirement already satisfied: pyobjc-framework-SafariServices==10.3.1 in /opt/anaconda3/lib/python3.11/site-packages (from pyobjc>=2.4->pyttsx3) (10.3.1)\n",
      "Requirement already satisfied: pyobjc-framework-ColorSync==10.3.1 in /opt/anaconda3/lib/python3.11/site-packages (from pyobjc>=2.4->pyttsx3) (10.3.1)\n",
      "Requirement already satisfied: pyobjc-framework-CoreML==10.3.1 in /opt/anaconda3/lib/python3.11/site-packages (from pyobjc>=2.4->pyttsx3) (10.3.1)\n",
      "Requirement already satisfied: pyobjc-framework-CoreSpotlight==10.3.1 in /opt/anaconda3/lib/python3.11/site-packages (from pyobjc>=2.4->pyttsx3) (10.3.1)\n",
      "Requirement already satisfied: pyobjc-framework-ExternalAccessory==10.3.1 in /opt/anaconda3/lib/python3.11/site-packages (from pyobjc>=2.4->pyttsx3) (10.3.1)\n",
      "Requirement already satisfied: pyobjc-framework-MetalPerformanceShaders==10.3.1 in /opt/anaconda3/lib/python3.11/site-packages (from pyobjc>=2.4->pyttsx3) (10.3.1)\n",
      "Requirement already satisfied: pyobjc-framework-Vision==10.3.1 in /opt/anaconda3/lib/python3.11/site-packages (from pyobjc>=2.4->pyttsx3) (10.3.1)\n",
      "Requirement already satisfied: pyobjc-framework-AdSupport==10.3.1 in /opt/anaconda3/lib/python3.11/site-packages (from pyobjc>=2.4->pyttsx3) (10.3.1)\n",
      "Requirement already satisfied: pyobjc-framework-BusinessChat==10.3.1 in /opt/anaconda3/lib/python3.11/site-packages (from pyobjc>=2.4->pyttsx3) (10.3.1)\n",
      "Requirement already satisfied: pyobjc-framework-NaturalLanguage==10.3.1 in /opt/anaconda3/lib/python3.11/site-packages (from pyobjc>=2.4->pyttsx3) (10.3.1)\n",
      "Requirement already satisfied: pyobjc-framework-Network==10.3.1 in /opt/anaconda3/lib/python3.11/site-packages (from pyobjc>=2.4->pyttsx3) (10.3.1)\n",
      "Requirement already satisfied: pyobjc-framework-UserNotifications==10.3.1 in /opt/anaconda3/lib/python3.11/site-packages (from pyobjc>=2.4->pyttsx3) (10.3.1)\n",
      "Requirement already satisfied: pyobjc-framework-VideoSubscriberAccount==10.3.1 in /opt/anaconda3/lib/python3.11/site-packages (from pyobjc>=2.4->pyttsx3) (10.3.1)\n",
      "Requirement already satisfied: pyobjc-framework-AuthenticationServices==10.3.1 in /opt/anaconda3/lib/python3.11/site-packages (from pyobjc>=2.4->pyttsx3) (10.3.1)\n",
      "Requirement already satisfied: pyobjc-framework-AutomaticAssessmentConfiguration==10.3.1 in /opt/anaconda3/lib/python3.11/site-packages (from pyobjc>=2.4->pyttsx3) (10.3.1)\n",
      "Requirement already satisfied: pyobjc-framework-CoreHaptics==10.3.1 in /opt/anaconda3/lib/python3.11/site-packages (from pyobjc>=2.4->pyttsx3) (10.3.1)\n",
      "Requirement already satisfied: pyobjc-framework-CoreMotion==10.3.1 in /opt/anaconda3/lib/python3.11/site-packages (from pyobjc>=2.4->pyttsx3) (10.3.1)\n",
      "Requirement already satisfied: pyobjc-framework-DeviceCheck==10.3.1 in /opt/anaconda3/lib/python3.11/site-packages (from pyobjc>=2.4->pyttsx3) (10.3.1)\n",
      "Requirement already satisfied: pyobjc-framework-ExecutionPolicy==10.3.1 in /opt/anaconda3/lib/python3.11/site-packages (from pyobjc>=2.4->pyttsx3) (10.3.1)\n",
      "Requirement already satisfied: pyobjc-framework-FileProvider==10.3.1 in /opt/anaconda3/lib/python3.11/site-packages (from pyobjc>=2.4->pyttsx3) (10.3.1)\n",
      "Requirement already satisfied: pyobjc-framework-FileProviderUI==10.3.1 in /opt/anaconda3/lib/python3.11/site-packages (from pyobjc>=2.4->pyttsx3) (10.3.1)\n",
      "Requirement already satisfied: pyobjc-framework-LinkPresentation==10.3.1 in /opt/anaconda3/lib/python3.11/site-packages (from pyobjc>=2.4->pyttsx3) (10.3.1)\n",
      "Requirement already satisfied: pyobjc-framework-OSLog==10.3.1 in /opt/anaconda3/lib/python3.11/site-packages (from pyobjc>=2.4->pyttsx3) (10.3.1)\n",
      "Requirement already satisfied: pyobjc-framework-PencilKit==10.3.1 in /opt/anaconda3/lib/python3.11/site-packages (from pyobjc>=2.4->pyttsx3) (10.3.1)\n",
      "Requirement already satisfied: pyobjc-framework-PushKit==10.3.1 in /opt/anaconda3/lib/python3.11/site-packages (from pyobjc>=2.4->pyttsx3) (10.3.1)\n",
      "Requirement already satisfied: pyobjc-framework-QuickLookThumbnailing==10.3.1 in /opt/anaconda3/lib/python3.11/site-packages (from pyobjc>=2.4->pyttsx3) (10.3.1)\n",
      "Requirement already satisfied: pyobjc-framework-Speech==10.3.1 in /opt/anaconda3/lib/python3.11/site-packages (from pyobjc>=2.4->pyttsx3) (10.3.1)\n",
      "Requirement already satisfied: pyobjc-framework-SoundAnalysis==10.3.1 in /opt/anaconda3/lib/python3.11/site-packages (from pyobjc>=2.4->pyttsx3) (10.3.1)\n",
      "Requirement already satisfied: pyobjc-framework-SystemExtensions==10.3.1 in /opt/anaconda3/lib/python3.11/site-packages (from pyobjc>=2.4->pyttsx3) (10.3.1)\n",
      "Requirement already satisfied: pyobjc-framework-Accessibility==10.3.1 in /opt/anaconda3/lib/python3.11/site-packages (from pyobjc>=2.4->pyttsx3) (10.3.1)\n",
      "Requirement already satisfied: pyobjc-framework-AdServices==10.3.1 in /opt/anaconda3/lib/python3.11/site-packages (from pyobjc>=2.4->pyttsx3) (10.3.1)\n",
      "Requirement already satisfied: pyobjc-framework-AppTrackingTransparency==10.3.1 in /opt/anaconda3/lib/python3.11/site-packages (from pyobjc>=2.4->pyttsx3) (10.3.1)\n",
      "Requirement already satisfied: pyobjc-framework-CallKit==10.3.1 in /opt/anaconda3/lib/python3.11/site-packages (from pyobjc>=2.4->pyttsx3) (10.3.1)\n",
      "Requirement already satisfied: pyobjc-framework-ClassKit==10.3.1 in /opt/anaconda3/lib/python3.11/site-packages (from pyobjc>=2.4->pyttsx3) (10.3.1)\n",
      "Requirement already satisfied: pyobjc-framework-KernelManagement==10.3.1 in /opt/anaconda3/lib/python3.11/site-packages (from pyobjc>=2.4->pyttsx3) (10.3.1)\n",
      "Requirement already satisfied: pyobjc-framework-MetalPerformanceShadersGraph==10.3.1 in /opt/anaconda3/lib/python3.11/site-packages (from pyobjc>=2.4->pyttsx3) (10.3.1)\n",
      "Requirement already satisfied: pyobjc-framework-MLCompute==10.3.1 in /opt/anaconda3/lib/python3.11/site-packages (from pyobjc>=2.4->pyttsx3) (10.3.1)\n",
      "Requirement already satisfied: pyobjc-framework-PassKit==10.3.1 in /opt/anaconda3/lib/python3.11/site-packages (from pyobjc>=2.4->pyttsx3) (10.3.1)\n",
      "Requirement already satisfied: pyobjc-framework-ReplayKit==10.3.1 in /opt/anaconda3/lib/python3.11/site-packages (from pyobjc>=2.4->pyttsx3) (10.3.1)\n",
      "Requirement already satisfied: pyobjc-framework-ScreenTime==10.3.1 in /opt/anaconda3/lib/python3.11/site-packages (from pyobjc>=2.4->pyttsx3) (10.3.1)\n",
      "Requirement already satisfied: pyobjc-framework-UniformTypeIdentifiers==10.3.1 in /opt/anaconda3/lib/python3.11/site-packages (from pyobjc>=2.4->pyttsx3) (10.3.1)\n",
      "Requirement already satisfied: pyobjc-framework-UserNotificationsUI==10.3.1 in /opt/anaconda3/lib/python3.11/site-packages (from pyobjc>=2.4->pyttsx3) (10.3.1)\n",
      "Requirement already satisfied: pyobjc-framework-Virtualization==10.3.1 in /opt/anaconda3/lib/python3.11/site-packages (from pyobjc>=2.4->pyttsx3) (10.3.1)\n",
      "Requirement already satisfied: pyobjc-framework-DataDetection==10.3.1 in /opt/anaconda3/lib/python3.11/site-packages (from pyobjc>=2.4->pyttsx3) (10.3.1)\n",
      "Requirement already satisfied: pyobjc-framework-IntentsUI==10.3.1 in /opt/anaconda3/lib/python3.11/site-packages (from pyobjc>=2.4->pyttsx3) (10.3.1)\n",
      "Requirement already satisfied: pyobjc-framework-LocalAuthenticationEmbeddedUI==10.3.1 in /opt/anaconda3/lib/python3.11/site-packages (from pyobjc>=2.4->pyttsx3) (10.3.1)\n",
      "Requirement already satisfied: pyobjc-framework-MailKit==10.3.1 in /opt/anaconda3/lib/python3.11/site-packages (from pyobjc>=2.4->pyttsx3) (10.3.1)\n",
      "Requirement already satisfied: pyobjc-framework-MetricKit==10.3.1 in /opt/anaconda3/lib/python3.11/site-packages (from pyobjc>=2.4->pyttsx3) (10.3.1)\n",
      "Requirement already satisfied: pyobjc-framework-PHASE==10.3.1 in /opt/anaconda3/lib/python3.11/site-packages (from pyobjc>=2.4->pyttsx3) (10.3.1)\n",
      "Requirement already satisfied: pyobjc-framework-ShazamKit==10.3.1 in /opt/anaconda3/lib/python3.11/site-packages (from pyobjc>=2.4->pyttsx3) (10.3.1)\n"
     ]
    },
    {
     "name": "stdout",
     "output_type": "stream",
     "text": [
      "Requirement already satisfied: pyobjc-framework-ScreenCaptureKit==10.3.1 in /opt/anaconda3/lib/python3.11/site-packages (from pyobjc>=2.4->pyttsx3) (10.3.1)\n",
      "Requirement already satisfied: pyobjc-framework-AVRouting==10.3.1 in /opt/anaconda3/lib/python3.11/site-packages (from pyobjc>=2.4->pyttsx3) (10.3.1)\n",
      "Requirement already satisfied: pyobjc-framework-BackgroundAssets==10.3.1 in /opt/anaconda3/lib/python3.11/site-packages (from pyobjc>=2.4->pyttsx3) (10.3.1)\n",
      "Requirement already satisfied: pyobjc-framework-ExtensionKit==10.3.1 in /opt/anaconda3/lib/python3.11/site-packages (from pyobjc>=2.4->pyttsx3) (10.3.1)\n",
      "Requirement already satisfied: pyobjc-framework-HealthKit==10.3.1 in /opt/anaconda3/lib/python3.11/site-packages (from pyobjc>=2.4->pyttsx3) (10.3.1)\n",
      "Requirement already satisfied: pyobjc-framework-MetalFX==10.3.1 in /opt/anaconda3/lib/python3.11/site-packages (from pyobjc>=2.4->pyttsx3) (10.3.1)\n",
      "Requirement already satisfied: pyobjc-framework-SafetyKit==10.3.1 in /opt/anaconda3/lib/python3.11/site-packages (from pyobjc>=2.4->pyttsx3) (10.3.1)\n",
      "Requirement already satisfied: pyobjc-framework-SharedWithYouCore==10.3.1 in /opt/anaconda3/lib/python3.11/site-packages (from pyobjc>=2.4->pyttsx3) (10.3.1)\n",
      "Requirement already satisfied: pyobjc-framework-SharedWithYou==10.3.1 in /opt/anaconda3/lib/python3.11/site-packages (from pyobjc>=2.4->pyttsx3) (10.3.1)\n",
      "Requirement already satisfied: pyobjc-framework-ThreadNetwork==10.3.1 in /opt/anaconda3/lib/python3.11/site-packages (from pyobjc>=2.4->pyttsx3) (10.3.1)\n",
      "Requirement already satisfied: pyobjc-framework-CalendarStore==10.3.1 in /opt/anaconda3/lib/python3.11/site-packages (from pyobjc>=2.4->pyttsx3) (10.3.1)\n",
      "Requirement already satisfied: pyobjc-framework-Collaboration==10.3.1 in /opt/anaconda3/lib/python3.11/site-packages (from pyobjc>=2.4->pyttsx3) (10.3.1)\n",
      "Requirement already satisfied: pyobjc-framework-DictionaryServices==10.3.1 in /opt/anaconda3/lib/python3.11/site-packages (from pyobjc>=2.4->pyttsx3) (10.3.1)\n",
      "Requirement already satisfied: pyobjc-framework-FSEvents==10.3.1 in /opt/anaconda3/lib/python3.11/site-packages (from pyobjc>=2.4->pyttsx3) (10.3.1)\n",
      "Requirement already satisfied: pyobjc-framework-InputMethodKit==10.3.1 in /opt/anaconda3/lib/python3.11/site-packages (from pyobjc>=2.4->pyttsx3) (10.3.1)\n",
      "Requirement already satisfied: pyobjc-framework-InstantMessage==10.3.1 in /opt/anaconda3/lib/python3.11/site-packages (from pyobjc>=2.4->pyttsx3) (10.3.1)\n",
      "Requirement already satisfied: pyobjc-framework-ScriptingBridge==10.3.1 in /opt/anaconda3/lib/python3.11/site-packages (from pyobjc>=2.4->pyttsx3) (10.3.1)\n",
      "Note: you may need to restart the kernel to use updated packages.\n"
     ]
    }
   ],
   "source": [
    "pip install pyttsx3\n"
   ]
  },
  {
   "cell_type": "code",
   "execution_count": 18,
   "id": "fc689580",
   "metadata": {},
   "outputs": [
    {
     "ename": "NameError",
     "evalue": "name 'objc' is not defined",
     "output_type": "error",
     "traceback": [
      "\u001b[0;31m---------------------------------------------------------------------------\u001b[0m",
      "\u001b[0;31mKeyError\u001b[0m                                  Traceback (most recent call last)",
      "File \u001b[0;32m/opt/anaconda3/lib/python3.11/site-packages/pyttsx3/__init__.py:20\u001b[0m, in \u001b[0;36minit\u001b[0;34m(driverName, debug)\u001b[0m\n\u001b[1;32m     19\u001b[0m \u001b[38;5;28;01mtry\u001b[39;00m:\n\u001b[0;32m---> 20\u001b[0m     eng \u001b[38;5;241m=\u001b[39m _activeEngines[driverName]\n\u001b[1;32m     21\u001b[0m \u001b[38;5;28;01mexcept\u001b[39;00m \u001b[38;5;167;01mKeyError\u001b[39;00m:\n",
      "File \u001b[0;32m/opt/anaconda3/lib/python3.11/weakref.py:136\u001b[0m, in \u001b[0;36mWeakValueDictionary.__getitem__\u001b[0;34m(self, key)\u001b[0m\n\u001b[1;32m    135\u001b[0m     \u001b[38;5;28mself\u001b[39m\u001b[38;5;241m.\u001b[39m_commit_removals()\n\u001b[0;32m--> 136\u001b[0m o \u001b[38;5;241m=\u001b[39m \u001b[38;5;28mself\u001b[39m\u001b[38;5;241m.\u001b[39mdata[key]()\n\u001b[1;32m    137\u001b[0m \u001b[38;5;28;01mif\u001b[39;00m o \u001b[38;5;129;01mis\u001b[39;00m \u001b[38;5;28;01mNone\u001b[39;00m:\n",
      "\u001b[0;31mKeyError\u001b[0m: None",
      "\nDuring handling of the above exception, another exception occurred:\n",
      "\u001b[0;31mNameError\u001b[0m                                 Traceback (most recent call last)",
      "Cell \u001b[0;32mIn[18], line 29\u001b[0m\n\u001b[1;32m     27\u001b[0m output_file \u001b[38;5;241m=\u001b[39m \u001b[38;5;124m\"\u001b[39m\u001b[38;5;124moutput.mp3\u001b[39m\u001b[38;5;124m\"\u001b[39m\n\u001b[1;32m     28\u001b[0m \u001b[38;5;66;03m# Call the function\u001b[39;00m\n\u001b[0;32m---> 29\u001b[0m text_to_speech(text, output_file)\n",
      "Cell \u001b[0;32mIn[18], line 6\u001b[0m, in \u001b[0;36mtext_to_speech\u001b[0;34m(text, output_file)\u001b[0m\n\u001b[1;32m      4\u001b[0m \u001b[38;5;28;01mdef\u001b[39;00m \u001b[38;5;21mtext_to_speech\u001b[39m(text, output_file):\n\u001b[1;32m      5\u001b[0m     \u001b[38;5;66;03m# Initialize the TTS engine\u001b[39;00m\n\u001b[0;32m----> 6\u001b[0m     engine \u001b[38;5;241m=\u001b[39m pyttsx3\u001b[38;5;241m.\u001b[39minit()\n\u001b[1;32m      8\u001b[0m     \u001b[38;5;66;03m# Set properties (optional)\u001b[39;00m\n\u001b[1;32m      9\u001b[0m     engine\u001b[38;5;241m.\u001b[39msetProperty(\u001b[38;5;124m'\u001b[39m\u001b[38;5;124mrate\u001b[39m\u001b[38;5;124m'\u001b[39m, \u001b[38;5;241m150\u001b[39m)  \u001b[38;5;66;03m# Speed of speech\u001b[39;00m\n",
      "File \u001b[0;32m/opt/anaconda3/lib/python3.11/site-packages/pyttsx3/__init__.py:22\u001b[0m, in \u001b[0;36minit\u001b[0;34m(driverName, debug)\u001b[0m\n\u001b[1;32m     20\u001b[0m     eng \u001b[38;5;241m=\u001b[39m _activeEngines[driverName]\n\u001b[1;32m     21\u001b[0m \u001b[38;5;28;01mexcept\u001b[39;00m \u001b[38;5;167;01mKeyError\u001b[39;00m:\n\u001b[0;32m---> 22\u001b[0m     eng \u001b[38;5;241m=\u001b[39m Engine(driverName, debug)\n\u001b[1;32m     23\u001b[0m     _activeEngines[driverName] \u001b[38;5;241m=\u001b[39m eng\n\u001b[1;32m     24\u001b[0m \u001b[38;5;28;01mreturn\u001b[39;00m eng\n",
      "File \u001b[0;32m/opt/anaconda3/lib/python3.11/site-packages/pyttsx3/engine.py:30\u001b[0m, in \u001b[0;36mEngine.__init__\u001b[0;34m(self, driverName, debug)\u001b[0m\n\u001b[1;32m     20\u001b[0m \u001b[38;5;28;01mdef\u001b[39;00m \u001b[38;5;21m__init__\u001b[39m(\u001b[38;5;28mself\u001b[39m, driverName\u001b[38;5;241m=\u001b[39m\u001b[38;5;28;01mNone\u001b[39;00m, debug\u001b[38;5;241m=\u001b[39m\u001b[38;5;28;01mFalse\u001b[39;00m):\n\u001b[1;32m     21\u001b[0m \u001b[38;5;250m    \u001b[39m\u001b[38;5;124;03m\"\"\"\u001b[39;00m\n\u001b[1;32m     22\u001b[0m \u001b[38;5;124;03m    Constructs a new TTS engine instance.\u001b[39;00m\n\u001b[1;32m     23\u001b[0m \n\u001b[0;32m   (...)\u001b[0m\n\u001b[1;32m     28\u001b[0m \u001b[38;5;124;03m    @type debug: bool\u001b[39;00m\n\u001b[1;32m     29\u001b[0m \u001b[38;5;124;03m    \"\"\"\u001b[39;00m\n\u001b[0;32m---> 30\u001b[0m     \u001b[38;5;28mself\u001b[39m\u001b[38;5;241m.\u001b[39mproxy \u001b[38;5;241m=\u001b[39m driver\u001b[38;5;241m.\u001b[39mDriverProxy(weakref\u001b[38;5;241m.\u001b[39mproxy(\u001b[38;5;28mself\u001b[39m), driverName, debug)\n\u001b[1;32m     31\u001b[0m     \u001b[38;5;66;03m# initialize other vars\u001b[39;00m\n\u001b[1;32m     32\u001b[0m     \u001b[38;5;28mself\u001b[39m\u001b[38;5;241m.\u001b[39m_connects \u001b[38;5;241m=\u001b[39m {}\n",
      "File \u001b[0;32m/opt/anaconda3/lib/python3.11/site-packages/pyttsx3/driver.py:50\u001b[0m, in \u001b[0;36mDriverProxy.__init__\u001b[0;34m(self, engine, driverName, debug)\u001b[0m\n\u001b[1;32m     48\u001b[0m \u001b[38;5;66;03m# import driver module\u001b[39;00m\n\u001b[1;32m     49\u001b[0m name \u001b[38;5;241m=\u001b[39m \u001b[38;5;124m'\u001b[39m\u001b[38;5;124mpyttsx3.drivers.\u001b[39m\u001b[38;5;132;01m%s\u001b[39;00m\u001b[38;5;124m'\u001b[39m \u001b[38;5;241m%\u001b[39m driverName\n\u001b[0;32m---> 50\u001b[0m \u001b[38;5;28mself\u001b[39m\u001b[38;5;241m.\u001b[39m_module \u001b[38;5;241m=\u001b[39m importlib\u001b[38;5;241m.\u001b[39mimport_module(name)\n\u001b[1;32m     51\u001b[0m \u001b[38;5;66;03m# build driver instance\u001b[39;00m\n\u001b[1;32m     52\u001b[0m \u001b[38;5;28mself\u001b[39m\u001b[38;5;241m.\u001b[39m_driver \u001b[38;5;241m=\u001b[39m \u001b[38;5;28mself\u001b[39m\u001b[38;5;241m.\u001b[39m_module\u001b[38;5;241m.\u001b[39mbuildDriver(weakref\u001b[38;5;241m.\u001b[39mproxy(\u001b[38;5;28mself\u001b[39m))\n",
      "File \u001b[0;32m/opt/anaconda3/lib/python3.11/importlib/__init__.py:126\u001b[0m, in \u001b[0;36mimport_module\u001b[0;34m(name, package)\u001b[0m\n\u001b[1;32m    124\u001b[0m             \u001b[38;5;28;01mbreak\u001b[39;00m\n\u001b[1;32m    125\u001b[0m         level \u001b[38;5;241m+\u001b[39m\u001b[38;5;241m=\u001b[39m \u001b[38;5;241m1\u001b[39m\n\u001b[0;32m--> 126\u001b[0m \u001b[38;5;28;01mreturn\u001b[39;00m _bootstrap\u001b[38;5;241m.\u001b[39m_gcd_import(name[level:], package, level)\n",
      "File \u001b[0;32m<frozen importlib._bootstrap>:1204\u001b[0m, in \u001b[0;36m_gcd_import\u001b[0;34m(name, package, level)\u001b[0m\n",
      "File \u001b[0;32m<frozen importlib._bootstrap>:1176\u001b[0m, in \u001b[0;36m_find_and_load\u001b[0;34m(name, import_)\u001b[0m\n",
      "File \u001b[0;32m<frozen importlib._bootstrap>:1147\u001b[0m, in \u001b[0;36m_find_and_load_unlocked\u001b[0;34m(name, import_)\u001b[0m\n",
      "File \u001b[0;32m<frozen importlib._bootstrap>:690\u001b[0m, in \u001b[0;36m_load_unlocked\u001b[0;34m(spec)\u001b[0m\n",
      "File \u001b[0;32m<frozen importlib._bootstrap_external>:940\u001b[0m, in \u001b[0;36mexec_module\u001b[0;34m(self, module)\u001b[0m\n",
      "File \u001b[0;32m<frozen importlib._bootstrap>:241\u001b[0m, in \u001b[0;36m_call_with_frames_removed\u001b[0;34m(f, *args, **kwds)\u001b[0m\n",
      "File \u001b[0;32m/opt/anaconda3/lib/python3.11/site-packages/pyttsx3/drivers/nsss.py:12\u001b[0m\n\u001b[1;32m      8\u001b[0m \u001b[38;5;28;01mdef\u001b[39;00m \u001b[38;5;21mbuildDriver\u001b[39m(proxy):\n\u001b[1;32m      9\u001b[0m     \u001b[38;5;28;01mreturn\u001b[39;00m NSSpeechDriver\u001b[38;5;241m.\u001b[39malloc()\u001b[38;5;241m.\u001b[39minitWithProxy(proxy)\n\u001b[0;32m---> 12\u001b[0m \u001b[38;5;28;01mclass\u001b[39;00m \u001b[38;5;21;01mNSSpeechDriver\u001b[39;00m(NSObject):\n\u001b[1;32m     13\u001b[0m     \u001b[38;5;129m@objc\u001b[39m\u001b[38;5;241m.\u001b[39mpython_method\n\u001b[1;32m     14\u001b[0m     \u001b[38;5;28;01mdef\u001b[39;00m \u001b[38;5;21minitWithProxy\u001b[39m(\u001b[38;5;28mself\u001b[39m, proxy):\n\u001b[1;32m     15\u001b[0m         \u001b[38;5;28mself\u001b[39m \u001b[38;5;241m=\u001b[39m \u001b[38;5;28msuper\u001b[39m(NSSpeechDriver, \u001b[38;5;28mself\u001b[39m)\u001b[38;5;241m.\u001b[39minit()\n",
      "File \u001b[0;32m/opt/anaconda3/lib/python3.11/site-packages/pyttsx3/drivers/nsss.py:13\u001b[0m, in \u001b[0;36mNSSpeechDriver\u001b[0;34m()\u001b[0m\n\u001b[1;32m     12\u001b[0m \u001b[38;5;28;01mclass\u001b[39;00m \u001b[38;5;21;01mNSSpeechDriver\u001b[39;00m(NSObject):\n\u001b[0;32m---> 13\u001b[0m     \u001b[38;5;129m@objc\u001b[39m\u001b[38;5;241m.\u001b[39mpython_method\n\u001b[1;32m     14\u001b[0m     \u001b[38;5;28;01mdef\u001b[39;00m \u001b[38;5;21minitWithProxy\u001b[39m(\u001b[38;5;28mself\u001b[39m, proxy):\n\u001b[1;32m     15\u001b[0m         \u001b[38;5;28mself\u001b[39m \u001b[38;5;241m=\u001b[39m \u001b[38;5;28msuper\u001b[39m(NSSpeechDriver, \u001b[38;5;28mself\u001b[39m)\u001b[38;5;241m.\u001b[39minit()\n\u001b[1;32m     16\u001b[0m         \u001b[38;5;28;01mif\u001b[39;00m \u001b[38;5;28mself\u001b[39m:\n",
      "\u001b[0;31mNameError\u001b[0m: name 'objc' is not defined"
     ]
    }
   ],
   "source": [
    "import pyttsx3\n",
    "import os\n",
    "\n",
    "def text_to_speech(text, output_file):\n",
    "    # Initialize the TTS engine\n",
    "    engine = pyttsx3.init()\n",
    "    \n",
    "    # Set properties (optional)\n",
    "    engine.setProperty('rate', 150)  # Speed of speech\n",
    "    engine.setProperty('volume', 1)  # Volume level (0.0 to 1.0)\n",
    "    \n",
    "    # Save the speech to an audio file\n",
    "    engine.save_to_file(text, output_file)\n",
    "    \n",
    "    # Run the speech engine\n",
    "    engine.runAndWait()\n",
    "    \n",
    "    print(f\"Saved TTS to {output_file}\")\n",
    "    \n",
    "    # Play the audio file (Windows)\n",
    "    os.system(f\"start {output_file}\")\n",
    "\n",
    "if __name__ == \"__main__\":\n",
    "    # Define the text to be converted to speech\n",
    "    text = \"Bibi Mon happy alleeeeeeeeeeeeeeeeeeeeeeee\"\n",
    "    # Define the output file name\n",
    "    output_file = \"output.mp3\"\n",
    "    # Call the function\n",
    "    text_to_speech(text, output_file)\n"
   ]
  },
  {
   "cell_type": "code",
   "execution_count": null,
   "id": "e6638ffb",
   "metadata": {},
   "outputs": [],
   "source": [
    "pyttsx3 is used for text-to-speech conversion.\n",
    "os is used to interact with the operating system to play the audio file.\n",
    "\n",
    "\n",
    "pyttsx3.init() initializes the text-to-speech engine. This engine will handle the conversion of text to speech.\n",
    "\n",
    "\n",
    "Set Properties (Optional):\n",
    "engine.setProperty('rate', 150): This sets the speed of the speech. The value 150 is the words per minute. You can adjust this to make the speech faster or slower.\n",
    "engine.setProperty('volume', 1): This sets the volume level of the speech. The value 1 represents the maximum volume. You can set it between 0.0 (minimum) and 1.0 (maximum)\n",
    "    \n",
    "    \n",
    "Save Speech to an Audio File:\n",
    "engine.save_to_file(text, output_file): This method converts the given text to speech and saves it to the specified file (output_file). In this case, it saves the audio as output.mp3.    .\n",
    "    \n",
    "   \n",
    "Run the Speech Engine:\n",
    "engine.runAndWait(): This function processes all the currently queued commands, which includes converting the text to speech and saving it to the file. It ensures that the conversion and saving are completed before the program procee\n",
    "    \n",
    "Print Confirmation:\n",
    "print(f\"Saved TTS to {output_file}\"): This prints a confirmation message to the console, indicating that the text-to-speech conversion has been saved to the specified file.\n",
    "\n",
    "    \n",
    "Play the Audio File (Windows):\n",
    "os.system(f\"start {output_file}\"): This uses the os module to execute the system command start, which opens the specified file (output_file) using the default media player on Windows.\n",
    "    \n",
    "\n",
    "Main Block:\n",
    "This block ensures that the following code is executed only when the script is run directly, not when it is imported as a module in another script."
   ]
  },
  {
   "cell_type": "code",
   "execution_count": 28,
   "id": "d29e61da",
   "metadata": {},
   "outputs": [
    {
     "name": "stdout",
     "output_type": "stream",
     "text": [
      "Speech synthesis complete.\n"
     ]
    }
   ],
   "source": [
    "import subprocess\n",
    "\n",
    "def text_to_speech(text):\n",
    "    # Use the macOS say command for text-to-speech\n",
    "    try:\n",
    "        # Call the say command\n",
    "        subprocess.run(['say', text], check=True)\n",
    "        print(\"Speech synthesis complete.\")\n",
    "    except subprocess.CalledProcessError as e:\n",
    "        print(f\"An error occurred: {e}\")\n",
    "\n",
    "if __name__ == \"__main__\":\n",
    "    # Define the text to be converted to speech\n",
    "    text = \"eni ennum happy aayirikum\"\n",
    "    # Call the function\n",
    "    text_to_speech(text)"
   ]
  },
  {
   "cell_type": "code",
   "execution_count": null,
   "id": "b5296f6d",
   "metadata": {},
   "outputs": [],
   "source": []
  }
 ],
 "metadata": {
  "kernelspec": {
   "display_name": "Python 3 (ipykernel)",
   "language": "python",
   "name": "python3"
  },
  "language_info": {
   "codemirror_mode": {
    "name": "ipython",
    "version": 3
   },
   "file_extension": ".py",
   "mimetype": "text/x-python",
   "name": "python",
   "nbconvert_exporter": "python",
   "pygments_lexer": "ipython3",
   "version": "3.11.7"
  }
 },
 "nbformat": 4,
 "nbformat_minor": 5
}
