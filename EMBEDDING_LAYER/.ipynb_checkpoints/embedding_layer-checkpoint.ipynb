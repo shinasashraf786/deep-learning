{
 "cells": [
  {
   "cell_type": "code",
   "execution_count": 1,
   "id": "aaff6b4b",
   "metadata": {},
   "outputs": [
    {
     "name": "stderr",
     "output_type": "stream",
     "text": [
      "2024-03-05 14:10:53.281939: I tensorflow/core/platform/cpu_feature_guard.cc:182] This TensorFlow binary is optimized to use available CPU instructions in performance-critical operations.\n",
      "To enable the following instructions: AVX2 FMA, in other operations, rebuild TensorFlow with the appropriate compiler flags.\n"
     ]
    }
   ],
   "source": [
    "import tensorflow as tf\n",
    "from tensorflow.keras.preprocessing.text import Tokenizer\n",
    "from tensorflow.keras.preprocessing.sequence import pad_sequences"
   ]
  },
  {
   "cell_type": "code",
   "execution_count": 3,
   "id": "552a14db",
   "metadata": {},
   "outputs": [],
   "source": [
    "#sample text data\n",
    "texts = [\n",
    "    \"This is the first document. \",\n",
    "    \"This document is the second document. \",\n",
    "    \"And this is the third one. \",\n",
    "    \"Is this the first document?\",\n",
    "]"
   ]
  },
  {
   "cell_type": "markdown",
   "id": "1fe8e541",
   "metadata": {},
   "source": [
    "Tokenize the text: Split your text into Individual words or tokens.\n",
    "Create a vocabulary: Build a vocabulary mapping each unique word/token to an integer index.\n",
    "Convert text to sequences: Replace each word/token in the text with its corresponding integer index based on the vocabulary.\n"
   ]
  },
  {
   "cell_type": "code",
   "execution_count": 4,
   "id": "416d1c61",
   "metadata": {},
   "outputs": [],
   "source": [
    "#step 1: Tokenize the text\n",
    "tokenizer = Tokenizer()\n",
    "\n",
    "tokenizer.fit_on_texts(texts)\n",
    "word_index=tokenizer.word_index"
   ]
  },
  {
   "cell_type": "code",
   "execution_count": 5,
   "id": "817c1578",
   "metadata": {},
   "outputs": [
    {
     "data": {
      "text/plain": [
       "{'this': 1,\n",
       " 'is': 2,\n",
       " 'the': 3,\n",
       " 'document': 4,\n",
       " 'first': 5,\n",
       " 'second': 6,\n",
       " 'and': 7,\n",
       " 'third': 8,\n",
       " 'one': 9}"
      ]
     },
     "execution_count": 5,
     "metadata": {},
     "output_type": "execute_result"
    }
   ],
   "source": [
    "word_index"
   ]
  },
  {
   "cell_type": "code",
   "execution_count": 6,
   "id": "d87a55b2",
   "metadata": {},
   "outputs": [],
   "source": [
    "#step 2:Convert text to sequences\n",
    "sequences = tokenizer.texts_to_sequences(texts)\n",
    "\n"
   ]
  },
  {
   "cell_type": "code",
   "execution_count": 7,
   "id": "3fea4d0e",
   "metadata": {},
   "outputs": [
    {
     "data": {
      "text/plain": [
       "[[1, 2, 3, 5, 4], [1, 4, 2, 3, 6, 4], [7, 1, 2, 3, 8, 9], [2, 1, 3, 5, 4]]"
      ]
     },
     "execution_count": 7,
     "metadata": {},
     "output_type": "execute_result"
    }
   ],
   "source": [
    "sequences"
   ]
  },
  {
   "cell_type": "markdown",
   "id": "db3fbf42",
   "metadata": {},
   "source": [
    "tokenize the text using Tokenizer and convert it into sequences of integers, pad the sequences to ensure they all have the same length.\n",
    "then create an embedding matrix using Embedding layer, where each word index in the sequences is mapped to a dense vector representation.\n"
   ]
  },
  {
   "cell_type": "code",
   "execution_count": 9,
   "id": "355bf11c",
   "metadata": {},
   "outputs": [],
   "source": [
    "#step3: pad sequences(optional)\n",
    "#Ensure all sequences have the same length by padding them with zeros or truncating them.\n",
    "\n",
    "max_sequence_length = max([len(seq) for seq in sequences])\n",
    "\n",
    "sequences_padded = pad_sequences(sequences, max_sequence_length,padding='post')"
   ]
  },
  {
   "cell_type": "code",
   "execution_count": null,
   "id": "ced56b0f",
   "metadata": {},
   "outputs": [],
   "source": []
  }
 ],
 "metadata": {
  "kernelspec": {
   "display_name": "Python 3 (ipykernel)",
   "language": "python",
   "name": "python3"
  },
  "language_info": {
   "codemirror_mode": {
    "name": "ipython",
    "version": 3
   },
   "file_extension": ".py",
   "mimetype": "text/x-python",
   "name": "python",
   "nbconvert_exporter": "python",
   "pygments_lexer": "ipython3",
   "version": "3.11.5"
  }
 },
 "nbformat": 4,
 "nbformat_minor": 5
}
