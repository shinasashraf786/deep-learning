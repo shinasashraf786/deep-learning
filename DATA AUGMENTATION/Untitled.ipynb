{
 "cells": [
  {
   "cell_type": "markdown",
   "id": "53db1489",
   "metadata": {},
   "source": [
    "Data Augmentation is a technique of artificially increasing the training set by creating modified copies of a dataset\n",
    "\n",
    "\n",
    "Using existing data,it includes making minor changes to the dataset or using deep learning to generate new data points"
   ]
  },
  {
   "cell_type": "code",
   "execution_count": 1,
   "id": "60654045",
   "metadata": {},
   "outputs": [
    {
     "name": "stderr",
     "output_type": "stream",
     "text": [
      "2024-06-20 07:39:15.486995: I tensorflow/core/platform/cpu_feature_guard.cc:182] This TensorFlow binary is optimized to use available CPU instructions in performance-critical operations.\n",
      "To enable the following instructions: SSE4.1 SSE4.2 AVX AVX2 FMA, in other operations, rebuild TensorFlow with the appropriate compiler flags.\n"
     ]
    }
   ],
   "source": [
    "from tensorflow.keras.utils import img_to_array,array_to_img,load_img"
   ]
  },
  {
   "cell_type": "code",
   "execution_count": 2,
   "id": "df2645e6",
   "metadata": {},
   "outputs": [],
   "source": [
    "from tensorflow.keras.preprocessing.image import ImageDataGenerator"
   ]
  },
  {
   "cell_type": "code",
   "execution_count": 3,
   "id": "9d638ddd",
   "metadata": {},
   "outputs": [],
   "source": [
    "datagen = ImageDataGenerator(rotation_range=40,width_shift_range=0.2,height_shift_range=0.2,shear_range=0.2,horizontal_flip=True,fill_mode='nearest')"
   ]
  },
  {
   "cell_type": "markdown",
   "id": "2ea1fa5b",
   "metadata": {},
   "source": [
    "*   rotation range=40: Randomly rotates the image within the range of 0 to 40 degrees.\n",
    "*   width shift_ range=0.2: Shifts the image horizontally (as a fraction of total width).\n",
    "*   height shift range=0.2: Shifts the image vertically (as a fraction of total height).\n",
    "* a shear _range-0.2: Shears the image in the counter clockwise direction. a \n",
    "* horizontal flip-True: Flips the image horizontally.\n",
    "* a fill mode-'nearest\": Fills in newly created pixels after rotation or shifting with the nearest existing pixels' value.\n",
    "Image- Loading and Reshaping:\n"
   ]
  },
  {
   "cell_type": "code",
   "execution_count": 5,
   "id": "75f6f2d6",
   "metadata": {},
   "outputs": [
    {
     "data": {
      "text/plain": [
       "(375, 499, 3)"
      ]
     },
     "execution_count": 5,
     "metadata": {},
     "output_type": "execute_result"
    }
   ],
   "source": [
    "img = load_img('Default.jpg')  #this is a pill image\n",
    "x = img_to_array(img)   #this is a numpy array with shape(3,375,499)\n",
    "x.shape"
   ]
  },
  {
   "cell_type": "code",
   "execution_count": 11,
   "id": "f37f9624",
   "metadata": {},
   "outputs": [],
   "source": [
    "x = x.reshape((1,)+x.shape)  #this is a numpy array with shape(1,3,375,499)"
   ]
  },
  {
   "cell_type": "code",
   "execution_count": 12,
   "id": "ccd363b3",
   "metadata": {},
   "outputs": [
    {
     "data": {
      "text/plain": [
       "(1, 375, 499, 3)"
      ]
     },
     "execution_count": 12,
     "metadata": {},
     "output_type": "execute_result"
    }
   ],
   "source": [
    "x.shape"
   ]
  },
  {
   "cell_type": "code",
   "execution_count": 13,
   "id": "512d725a",
   "metadata": {},
   "outputs": [],
   "source": [
    "#the flow() command below generates batches of randomly transformed images\n",
    "#and saves the results to the preview/ directory"
   ]
  },
  {
   "cell_type": "code",
   "execution_count": 17,
   "id": "d4ed969e",
   "metadata": {},
   "outputs": [],
   "source": [
    "i = 0\n",
    "for batch in datagen.flow(x,batch_size=1,save_to_dir='img_dir',save_prefix='cl',save_format='jpeg'):\n",
    "    i += 1\n",
    "    if i > 20:\n",
    "        break     #otherwise the generator would loop indefinitely"
   ]
  },
  {
   "cell_type": "code",
   "execution_count": null,
   "id": "22e85145",
   "metadata": {},
   "outputs": [],
   "source": []
  },
  {
   "cell_type": "code",
   "execution_count": null,
   "id": "b0071ba9",
   "metadata": {},
   "outputs": [],
   "source": []
  }
 ],
 "metadata": {
  "kernelspec": {
   "display_name": "testenv",
   "language": "python",
   "name": "testenv"
  },
  "language_info": {
   "codemirror_mode": {
    "name": "ipython",
    "version": 3
   },
   "file_extension": ".py",
   "mimetype": "text/x-python",
   "name": "python",
   "nbconvert_exporter": "python",
   "pygments_lexer": "ipython3",
   "version": "3.9.15"
  }
 },
 "nbformat": 4,
 "nbformat_minor": 5
}
