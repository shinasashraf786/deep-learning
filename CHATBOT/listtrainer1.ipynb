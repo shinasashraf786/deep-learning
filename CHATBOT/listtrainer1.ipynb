{
 "cells": [
  {
   "cell_type": "code",
   "execution_count": 1,
   "metadata": {},
   "outputs": [
    {
     "name": "stderr",
     "output_type": "stream",
     "text": [
      "[nltk_data] Downloading package averaged_perceptron_tagger to\n",
      "[nltk_data]     /Users/apple/nltk_data...\n",
      "[nltk_data]   Package averaged_perceptron_tagger is already up-to-\n",
      "[nltk_data]       date!\n",
      "[nltk_data] Downloading package punkt to /Users/apple/nltk_data...\n",
      "[nltk_data]   Package punkt is already up-to-date!\n",
      "[nltk_data] Downloading package stopwords to /Users/apple/nltk_data...\n",
      "[nltk_data]   Package stopwords is already up-to-date!\n"
     ]
    }
   ],
   "source": [
    "from chatterbot import ChatBot\n",
    "from chatterbot.trainers import ListTrainer\n",
    "\n",
    "chatbot = ChatBot('jarvis',logic_adapters=['chatterbot.logic.BestMatch',\n",
    "{'import_path':\"chatterbot.logic.BestMatch\",\n",
    "'default_response':\"I am sorry,but i do not understand.\",\n",
    "\"maximum similarity_threshold\":0.90}])\n"
   ]
  },
  {
   "cell_type": "code",
   "execution_count": 6,
   "metadata": {},
   "outputs": [
    {
     "name": "stdout",
     "output_type": "stream",
     "text": [
      "Package           Version\n",
      "----------------- ----------\n",
      "appnope           0.1.4\n",
      "asttokens         2.4.1\n",
      "certifi           2023.7.22\n",
      "ChatterBot        1.0.4\n",
      "chatterbot-corpus 1.2.0\n",
      "click             8.1.7\n",
      "comm              0.2.2\n",
      "debugpy           1.8.1\n",
      "decorator         5.1.1\n",
      "executing         2.0.1\n",
      "ipykernel         6.29.3\n",
      "ipython           8.22.2\n",
      "jedi              0.19.1\n",
      "joblib            1.3.2\n",
      "jupyter_client    8.6.1\n",
      "jupyter_core      5.7.2\n",
      "mathparse         0.1.2\n",
      "matplotlib-inline 0.1.6\n",
      "nest-asyncio      1.6.0\n",
      "nltk              3.8.1\n",
      "packaging         24.0\n",
      "parso             0.8.3\n",
      "pexpect           4.9.0\n",
      "Pint              0.23\n",
      "pip               23.2.1\n",
      "platformdirs      4.2.0\n",
      "prompt-toolkit    3.0.43\n",
      "psutil            5.9.8\n",
      "ptyprocess        0.7.0\n",
      "pure-eval         0.2.2\n",
      "Pygments          2.17.2\n",
      "pymongo           3.13.0\n",
      "python-dateutil   2.7.5\n",
      "pytz              2024.1\n",
      "PyYAML            3.13\n",
      "pyzmq             25.1.2\n",
      "regex             2023.12.25\n",
      "setuptools        65.5.0\n",
      "six               1.16.0\n",
      "SQLAlchemy        1.2.19\n",
      "stack-data        0.6.3\n",
      "tornado           6.4\n",
      "tqdm              4.66.2\n",
      "traitlets         5.14.2\n",
      "typing_extensions 4.10.0\n",
      "wcwidth           0.2.13\n",
      "\n",
      "\u001b[1m[\u001b[0m\u001b[34;49mnotice\u001b[0m\u001b[1;39;49m]\u001b[0m\u001b[39;49m A new release of pip is available: \u001b[0m\u001b[31;49m23.2.1\u001b[0m\u001b[39;49m -> \u001b[0m\u001b[32;49m24.0\u001b[0m\n",
      "\u001b[1m[\u001b[0m\u001b[34;49mnotice\u001b[0m\u001b[1;39;49m]\u001b[0m\u001b[39;49m To update, run: \u001b[0m\u001b[32;49mpip3 install --upgrade pip\u001b[0m\n",
      "Note: you may need to restart the kernel to use updated packages.\n"
     ]
    }
   ],
   "source": [
    "pip list"
   ]
  },
  {
   "cell_type": "code",
   "execution_count": 3,
   "metadata": {},
   "outputs": [
    {
     "ename": "NameError",
     "evalue": "name 'ListTrainer' is not defined",
     "output_type": "error",
     "traceback": [
      "\u001b[0;31m---------------------------------------------------------------------------\u001b[0m",
      "\u001b[0;31mNameError\u001b[0m                                 Traceback (most recent call last)",
      "Cell \u001b[0;32mIn[3], line 1\u001b[0m\n\u001b[0;32m----> 1\u001b[0m trainer \u001b[38;5;241m=\u001b[39m \u001b[43mListTrainer\u001b[49m(chatbot)\n",
      "\u001b[0;31mNameError\u001b[0m: name 'ListTrainer' is not defined"
     ]
    }
   ],
   "source": [
    "trainer = ListTrainer(chatbot)"
   ]
  },
  {
   "cell_type": "code",
   "execution_count": 4,
   "metadata": {},
   "outputs": [
    {
     "name": "stdout",
     "output_type": "stream",
     "text": [
      "List Trainer: [#                   ] 6%"
     ]
    },
    {
     "name": "stdout",
     "output_type": "stream",
     "text": [
      "List Trainer: [####################] 100%\n",
      "List Trainer: [####################] 100%\n",
      "List Trainer: [####################] 100%\n"
     ]
    }
   ],
   "source": [
    "trainer.train([\n",
    "    \"I want to book a movie ticket\",\n",
    "    \"which movie are you looking for\",\n",
    "    \"what are the movies playing now\",\n",
    "    \"1.Inception,2.Lucifer,3.Premalu\",\n",
    "    \"lucifer\"\n",
    "    \"Thats a good movie\",\n",
    "    \"ok i know that\",\n",
    "    \"when are you planning to watch\",\n",
    "    \"tommorrow\",\n",
    "    \"ok sir,we have tickets for 3pm tommorow at pvr lulu\",\n",
    "    \"i want 3 tickets\",\n",
    "    \"ok\",\n",
    "    \"what is the payment method\",\n",
    "    \"what are the payment methods\",\n",
    "    \"upi or debit card\",\n",
    "    \"upi\",\n",
    "    \"you will recive a payment confirmation on gpay,please confirm your payment and reply as done\",\n",
    "    \"done\",\n",
    "    \"ok sir we have booked 3 tickets for tommorow 3pm show at pvr lulu,you will recive text message shortly,thank you\"\n",
    "])\n",
    "trainer.train([\n",
    "    \"premalu\",\n",
    "    \"thats a good movie\"\n",
    "])\n",
    "trainer.train([\n",
    "    \"debit card\",\n",
    "    \"pls provide your debit card number\",\n",
    "    \"0000 0000 0000 0000\",\n",
    "    \"pls privide your cvv\",\n",
    "    \"000\",\n",
    "    \"you will recieve an otp to confirm your seat on book my show please verify your payment and rplay done\",\n",
    "    \"Done\",\n",
    "    \"Ok sir we have booked 3 tickets for tommorow 3pm show at pvr lulu, you will recive text message shortly, thank you\"\n",
    "])\n"
   ]
  },
  {
   "cell_type": "code",
   "execution_count": 8,
   "metadata": {},
   "outputs": [
    {
     "name": "stdout",
     "output_type": "stream",
     "text": [
      "you will recieve an otp to confirm your seat on book my show please verify your payment and rplay done\n"
     ]
    }
   ],
   "source": [
    "reply = chatbot.get_response(\"000\")\n",
    "print(reply)"
   ]
  },
  {
   "cell_type": "code",
   "execution_count": 1,
   "metadata": {},
   "outputs": [
    {
     "ename": "NameError",
     "evalue": "name 'trainer' is not defined",
     "output_type": "error",
     "traceback": [
      "\u001b[0;31m---------------------------------------------------------------------------\u001b[0m",
      "\u001b[0;31mNameError\u001b[0m                                 Traceback (most recent call last)",
      "Cell \u001b[0;32mIn[1], line 1\u001b[0m\n\u001b[0;32m----> 1\u001b[0m \u001b[43mtrainer\u001b[49m\u001b[38;5;241m.\u001b[39mtrain([\n\u001b[1;32m      2\u001b[0m \u001b[38;5;124m\"\u001b[39m\u001b[38;5;124mi want to book a movie ticket\u001b[39m\u001b[38;5;124m\"\u001b[39m,\n\u001b[1;32m      3\u001b[0m \u001b[38;5;124m\"\u001b[39m\u001b[38;5;124mwhich movie you are looking for ?\u001b[39m\u001b[38;5;124m\"\u001b[39m,\n\u001b[1;32m      4\u001b[0m \u001b[38;5;124m\"\u001b[39m\u001b[38;5;124mwhat are the movies playing now\u001b[39m\u001b[38;5;124m\"\u001b[39m, \n\u001b[1;32m      5\u001b[0m \u001b[38;5;124m\"\u001b[39m\u001b[38;5;124m1.lucifer, 2.bhisma parvam\u001b[39m\u001b[38;5;124m\"\u001b[39m,\n\u001b[1;32m      6\u001b[0m \u001b[38;5;124m\"\u001b[39m\u001b[38;5;124mLucifer\u001b[39m\u001b[38;5;124m\"\u001b[39m,\n\u001b[1;32m      7\u001b[0m \u001b[38;5;124m\"\u001b[39m\u001b[38;5;124mThats a good movie\u001b[39m\u001b[38;5;124m\"\u001b[39m,\n\u001b[1;32m      8\u001b[0m \u001b[38;5;124m\"\u001b[39m\u001b[38;5;124mok i know that\u001b[39m\u001b[38;5;124m\"\u001b[39m,\n\u001b[1;32m      9\u001b[0m \u001b[38;5;124m\"\u001b[39m\u001b[38;5;124mwhen are you planning to watch\u001b[39m\u001b[38;5;124m\"\u001b[39m,\n\u001b[1;32m     10\u001b[0m \u001b[38;5;124m\"\u001b[39m\u001b[38;5;124mtommorow\u001b[39m\u001b[38;5;124m\"\u001b[39m,\n\u001b[1;32m     11\u001b[0m \u001b[38;5;124m\"\u001b[39m\u001b[38;5;124mok sir , we have tickets for 3pm tommorow at pvr lulu\u001b[39m\u001b[38;5;124m\"\u001b[39m,\n\u001b[1;32m     12\u001b[0m \u001b[38;5;124m\"\u001b[39m\u001b[38;5;124mi want 3 tickets\u001b[39m\u001b[38;5;124m\"\u001b[39m,\n\u001b[1;32m     13\u001b[0m \u001b[38;5;124m\"\u001b[39m\u001b[38;5;124mwe have 3 tickets sir\u001b[39m\u001b[38;5;124m\"\u001b[39m,\n\u001b[1;32m     14\u001b[0m \u001b[38;5;124m\"\u001b[39m\u001b[38;5;124mok\u001b[39m\u001b[38;5;124m\"\u001b[39m,\n\u001b[1;32m     15\u001b[0m \u001b[38;5;124m\"\u001b[39m\u001b[38;5;124mwhat is the payment methods\u001b[39m\u001b[38;5;124m\"\u001b[39m,\n\u001b[1;32m     16\u001b[0m \u001b[38;5;124m\"\u001b[39m\u001b[38;5;124mwhat are the payment methods\u001b[39m\u001b[38;5;124m\"\u001b[39m,\n\u001b[1;32m     17\u001b[0m \u001b[38;5;124m\"\u001b[39m\u001b[38;5;124mupi and debit card\u001b[39m\u001b[38;5;124m\"\u001b[39m,\n\u001b[1;32m     18\u001b[0m \u001b[38;5;124m\"\u001b[39m\u001b[38;5;124mupi\u001b[39m\u001b[38;5;124m\"\u001b[39m,\n\u001b[1;32m     19\u001b[0m \u001b[38;5;124m\"\u001b[39m\u001b[38;5;124myou will recive a payment confirmation on gpay, please confirm your payment and reply as done\u001b[39m\u001b[38;5;124m\"\u001b[39m,\n\u001b[1;32m     20\u001b[0m \u001b[38;5;124m\"\u001b[39m\u001b[38;5;124mDone\u001b[39m\u001b[38;5;124m\"\u001b[39m,\n\u001b[1;32m     21\u001b[0m \u001b[38;5;124m\"\u001b[39m\u001b[38;5;124mOk sir we have booked 3 tickets for tommorow 3pm show at pvr lulu, you will recive text message shortly, thank you\u001b[39m\u001b[38;5;124m\"\u001b[39m\n\u001b[1;32m     22\u001b[0m ])\n\u001b[1;32m     24\u001b[0m trainer\u001b[38;5;241m.\u001b[39mtrain([\n\u001b[1;32m     25\u001b[0m     \u001b[38;5;124m\"\u001b[39m\u001b[38;5;124mbhisma parvam\u001b[39m\u001b[38;5;124m\"\u001b[39m,\n\u001b[1;32m     26\u001b[0m     \u001b[38;5;124m\"\u001b[39m\u001b[38;5;124mthats a good movie\u001b[39m\u001b[38;5;124m\"\u001b[39m\n\u001b[1;32m     27\u001b[0m ])\n\u001b[1;32m     29\u001b[0m trainer\u001b[38;5;241m.\u001b[39mtrain([\n\u001b[1;32m     30\u001b[0m     \u001b[38;5;124m\"\u001b[39m\u001b[38;5;124mdebit card\u001b[39m\u001b[38;5;124m\"\u001b[39m,\n\u001b[1;32m     31\u001b[0m     \u001b[38;5;124m\"\u001b[39m\u001b[38;5;124mpls provide your debit card number\u001b[39m\u001b[38;5;124m\"\u001b[39m,\n\u001b[0;32m   (...)\u001b[0m\n\u001b[1;32m     37\u001b[0m     \u001b[38;5;124m\"\u001b[39m\u001b[38;5;124mOk sir we have booked 3 tickets for tommorow 3pm show at pvr lulu, you will recive text message shortly, thank you\u001b[39m\u001b[38;5;124m\"\u001b[39m\n\u001b[1;32m     38\u001b[0m ])\n",
      "\u001b[0;31mNameError\u001b[0m: name 'trainer' is not defined"
     ]
    }
   ],
   "source": [
    "trainer.train([\n",
    "\"i want to book a movie ticket\",\n",
    "\"which movie you are looking for ?\",\n",
    "\"what are the movies playing now\", \n",
    "\"1.lucifer, 2.bhisma parvam\",\n",
    "\"Lucifer\",\n",
    "\"Thats a good movie\",\n",
    "\"ok i know that\",\n",
    "\"when are you planning to watch\",\n",
    "\"tommorow\",\n",
    "\"ok sir , we have tickets for 3pm tommorow at pvr lulu\",\n",
    "\"i want 3 tickets\",\n",
    "\"we have 3 tickets sir\",\n",
    "\"ok\",\n",
    "\"what is the payment methods\",\n",
    "\"what are the payment methods\",\n",
    "\"upi and debit card\",\n",
    "\"upi\",\n",
    "\"you will recive a payment confirmation on gpay, please confirm your payment and reply as done\",\n",
    "\"Done\",\n",
    "\"Ok sir we have booked 3 tickets for tommorow 3pm show at pvr lulu, you will recive text message shortly, thank you\"\n",
    "])\n",
    "\n",
    "trainer.train([\n",
    "    \"bhisma parvam\",\n",
    "    \"thats a good movie\"\n",
    "])\n",
    "\n",
    "trainer.train([\n",
    "    \"debit card\",\n",
    "    \"pls provide your debit card number\",\n",
    "    \"0000 0000 0000 0000\",\n",
    "    \"pls privide your cvv\",\n",
    "    \"000\",\n",
    "    \"you will recieve an otp to confirm your seat on book my show please verify your payment and rplay done\",\n",
    "    \"Done\",\n",
    "    \"Ok sir we have booked 3 tickets for tommorow 3pm show at pvr lulu, you will recive text message shortly, thank you\"\n",
    "])\n"
   ]
  },
  {
   "cell_type": "code",
   "execution_count": 10,
   "metadata": {},
   "outputs": [],
   "source": [
    "name = input(\"enter your name\")\n",
    "print(\"Welcome to bookmyshow,how can i help you\")\n",
    "\n",
    "while True:\n",
    "    request = input(name+\":\")\n",
    "\n",
    "    if request == \"bye\":\n",
    "        print(\"chatbot:\",\"bye\")\n",
    "        break\n",
    "    else:\n",
    "        response=chatbot.get_response(request)\n",
    "        print(\"chatbot:\",response)"
   ]
  }
 ],
 "metadata": {
  "kernelspec": {
   "display_name": "Python 3",
   "language": "python",
   "name": "python3"
  },
  "language_info": {
   "codemirror_mode": {
    "name": "ipython",
    "version": 3
   },
   "file_extension": ".py",
   "mimetype": "text/x-python",
   "name": "python",
   "nbconvert_exporter": "python",
   "pygments_lexer": "ipython3",
   "version": "3.11.5"
  }
 },
 "nbformat": 4,
 "nbformat_minor": 2
}
