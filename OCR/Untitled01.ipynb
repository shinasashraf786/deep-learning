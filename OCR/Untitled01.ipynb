{
 "cells": [
  {
   "cell_type": "code",
   "execution_count": 4,
   "id": "38aaa68d-847d-41a3-aed3-1e8e30ce3b17",
   "metadata": {},
   "outputs": [],
   "source": [
    "import cv2\n",
    "import pytesseract"
   ]
  },
  {
   "cell_type": "code",
   "execution_count": 5,
   "id": "c4c50575",
   "metadata": {},
   "outputs": [
    {
     "name": "stdout",
     "output_type": "stream",
     "text": [
      "Requirement already satisfied: pytesseract in /Users/apple/anaconda3/lib/python3.11/site-packages (0.3.10)\n",
      "Requirement already satisfied: packaging>=21.3 in /Users/apple/anaconda3/lib/python3.11/site-packages (from pytesseract) (23.1)\n",
      "Requirement already satisfied: Pillow>=8.0.0 in /Users/apple/anaconda3/lib/python3.11/site-packages (from pytesseract) (10.0.1)\n",
      "Note: you may need to restart the kernel to use updated packages.\n"
     ]
    }
   ],
   "source": [
    "pip install pytesseract"
   ]
  },
  {
   "cell_type": "code",
   "execution_count": 6,
   "id": "dc787487-6c01-46a0-81d4-2f26ff8df3cd",
   "metadata": {},
   "outputs": [],
   "source": [
    "pytesseract.pytesseract.tesseract_cmd = \"tesseract-ocr-w64-setup-v5.2.0.20220712.exe\""
   ]
  },
  {
   "cell_type": "code",
   "execution_count": null,
   "id": "99e7fdfd-75e3-4ec5-b9f9-868c37641531",
   "metadata": {},
   "outputs": [],
   "source": [
    "img=cv2.imread('image.png')\n",
    "cv2.imshow('sample image',img)\n",
    "cv2.waitKey(0)\n",
    "cv2.destroyAllWindows()"
   ]
  },
  {
   "cell_type": "code",
   "execution_count": null,
   "id": "ea56bcbb-fe1e-4e95-a08f-6cad69196f9b",
   "metadata": {},
   "outputs": [],
   "source": [
    "#make a copy of the image to draw in\n",
    "image_copy=img.copy()\n",
    "#the target word to search for\n",
    "\n",
    "target_word='the'\n",
    "\n",
    "#get all the data from the image \n",
    "\n",
    "data=pytesseract.image_to_data(img,output_type=pytesseract.Output.DICT)"
   ]
  },
  {
   "cell_type": "code",
   "execution_count": null,
   "id": "170df664-23ef-4252-b421-c515c588775e",
   "metadata": {},
   "outputs": [],
   "source": [
    "data"
   ]
  },
  {
   "cell_type": "markdown",
   "id": "05b1461b-088c-427a-ba1a-93264bb7afb3",
   "metadata": {},
   "source": [
    "The image_to_data function from the pytesseract library extracts text data and provides information about individual words, Including their bounding boxes, confidences, and other details.\n",
    "\n",
    "if you want to find the occurance of a word,you might need to iterate through the data returned by image_to_data to check each words text content and see how many times the word is present along with its position in the image "
   ]
  },
  {
   "cell_type": "markdown",
   "id": "7a127162-37f3-408a-b1de-1bcce90dea11",
   "metadata": {},
   "source": [
    "level: Represents the nesting level of the detected components (e.g., blocks, paragraphs, lines, words).\n",
    "\n",
    "The document itself is at nesting level 1.\n",
    "Sections within the document are at nesting level 2.\n",
    "Subsections within sections are at nesting level 3.\n",
    "Paragraphs within subsections are at nesting level 4.\n",
    "Sentences within paragraphs are at nesting level 5.\n",
    "page_num: Indicates the page number where the text was extracted from.\n",
    "\n",
    "block_num: Identifies the block number (clusters of text elements).\n",
    "\n",
    "par_num: Denotes the paragraph number within a block.\n",
    "\n",
    "line_num: Specifies the line number within a paragraph.\n",
    "\n",
    "word_num: Represents the word number within a line.\n",
    "\n",
    "left, top, width, height: Provide positional and size information (in pixels) of the bounding box for each detected text component."
   ]
  },
  {
   "cell_type": "code",
   "execution_count": null,
   "id": "07195e43-5a98-41f9-9434-d137703f3b54",
   "metadata": {},
   "outputs": [],
   "source": [
    "#get all occurance of that word\n",
    "\n",
    "wc=[i for i,word in enumerate(data['text'])if word== target_word]"
   ]
  },
  {
   "cell_type": "code",
   "execution_count": null,
   "id": "f75fdab3",
   "metadata": {},
   "outputs": [],
   "source": [
    "wc"
   ]
  },
  {
   "cell_type": "code",
   "execution_count": null,
   "id": "2642f6df",
   "metadata": {},
   "outputs": [],
   "source": [
    "for x in wc:\n",
    "\n",
    "    #extract the width,height,top, and left position \n",
    "    w=data['width'][x]\n",
    "    h=data['height'][x]\n",
    "    l=data['left'][x]\n",
    "    t=data['top'][x]\n",
    "\n",
    "    #defining the points for ploting \n",
    "\n",
    "    p1=(l,t)\n",
    "    p2=(l+w,t)\n",
    "    p3=(l+w,t+h)\n",
    "    p4=(l,t+h)\n",
    "    \n",
    "    #draw the box \n",
    "    image_copy=cv2.line(image_copy,p1,p2,color=(0,255,0),thickness=1)\n",
    "    image_copy=cv2.line(image_copy,p2,p3,color=(0,255,0),thickness=1)\n",
    "    image_copy=cv2.line(image_copy,p3,p4,color=(0,255,0),thickness=1)\n",
    "    image_copy=cv2.line(image_copy,p4,p1,color=(0,255,0),thickness=1)\n"
   ]
  }
 ],
 "metadata": {
  "kernelspec": {
   "display_name": "Python 3 (ipykernel)",
   "language": "python",
   "name": "python3"
  },
  "language_info": {
   "codemirror_mode": {
    "name": "ipython",
    "version": 3
   },
   "file_extension": ".py",
   "mimetype": "text/x-python",
   "name": "python",
   "nbconvert_exporter": "python",
   "pygments_lexer": "ipython3",
   "version": "3.11.5"
  }
 },
 "nbformat": 4,
 "nbformat_minor": 5
}
