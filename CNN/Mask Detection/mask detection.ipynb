{
 "cells": [
  {
   "cell_type": "code",
   "execution_count": 16,
   "id": "bda2b6fd",
   "metadata": {},
   "outputs": [
    {
     "name": "stdout",
     "output_type": "stream",
     "text": [
      "{'.DS_Store': 0, 'mask_weared_incorrect': 1, 'with_mask': 2, 'without_mask': 3}\n",
      "['.DS_Store', 'mask_weared_incorrect', 'with_mask', 'without_mask']\n",
      "[0, 1, 2, 3]\n"
     ]
    }
   ],
   "source": [
    "import cv2\n",
    "import os\n",
    "\n",
    "\n",
    "data_path = 'dataset'\n",
    "categories=os.listdir(data_path)  #get folder\n",
    "labels = [i for i in range(len(categories))]\n",
    "\n",
    "label_dict=dict(zip(categories,labels)) #dictionary\n",
    "print(label_dict)\n",
    "print(categories)\n",
    "print(labels)"
   ]
  },
  {
   "cell_type": "code",
   "execution_count": 17,
   "id": "68815a0e",
   "metadata": {},
   "outputs": [
    {
     "ename": "NotADirectoryError",
     "evalue": "[Errno 20] Not a directory: 'dataset/.DS_Store'",
     "output_type": "error",
     "traceback": [
      "\u001b[0;31m---------------------------------------------------------------------------\u001b[0m",
      "\u001b[0;31mNotADirectoryError\u001b[0m                        Traceback (most recent call last)",
      "Cell \u001b[0;32mIn[17], line 7\u001b[0m\n\u001b[1;32m      5\u001b[0m \u001b[38;5;28;01mfor\u001b[39;00m category \u001b[38;5;129;01min\u001b[39;00m categories:\n\u001b[1;32m      6\u001b[0m     folder_path \u001b[38;5;241m=\u001b[39m os\u001b[38;5;241m.\u001b[39mpath\u001b[38;5;241m.\u001b[39mjoin(data_path,category)\n\u001b[0;32m----> 7\u001b[0m     img_names \u001b[38;5;241m=\u001b[39m os\u001b[38;5;241m.\u001b[39mlistdir(folder_path)\n\u001b[1;32m      9\u001b[0m     \u001b[38;5;28;01mfor\u001b[39;00m img_name \u001b[38;5;129;01min\u001b[39;00m img_names:\n\u001b[1;32m     10\u001b[0m         img_path\u001b[38;5;241m=\u001b[39mos\u001b[38;5;241m.\u001b[39mpath\u001b[38;5;241m.\u001b[39mjoin(folder_path,img_name)\n",
      "\u001b[0;31mNotADirectoryError\u001b[0m: [Errno 20] Not a directory: 'dataset/.DS_Store'"
     ]
    }
   ],
   "source": [
    "img_size = 100\n",
    "data = []\n",
    "target = []\n",
    "\n",
    "for category in categories:\n",
    "    folder_path = os.path.join(data_path,category)\n",
    "    img_names = os.listdir(folder_path)\n",
    "    \n",
    "    for img_name in img_names:\n",
    "        img_path=os.path.join(folder_path,img_name)\n",
    "        img=cv2.imread(img_path)\n",
    "    \n",
    "    \n",
    "    try:\n",
    "        gray=cv2.cvtColor(img,cv2,COLOR_BGR2GRAY)\n",
    "        #converting the image into gray scale\n",
    "        resized=cv2.resize(gray,(img_size,img_size))\n",
    "        #resizing the gray scale into 100*100,since we need  a fixed common size for all the images in the dataset\n",
    "        data.append(resized)\n",
    "        target.append(label_dict[category])\n",
    "        #appending the image and the label(categoriezed)into the list(dataset)\n",
    "        \n",
    "    except Exception as e:\n",
    "        print('Exception:',e)\n",
    "        #if any exception raised,the exception will be printed here.And pass to the next image"
   ]
  },
  {
   "cell_type": "code",
   "execution_count": null,
   "id": "621aad3a",
   "metadata": {},
   "outputs": [],
   "source": []
  }
 ],
 "metadata": {
  "kernelspec": {
   "display_name": "Python 3 (ipykernel)",
   "language": "python",
   "name": "python3"
  },
  "language_info": {
   "codemirror_mode": {
    "name": "ipython",
    "version": 3
   },
   "file_extension": ".py",
   "mimetype": "text/x-python",
   "name": "python",
   "nbconvert_exporter": "python",
   "pygments_lexer": "ipython3",
   "version": "3.11.5"
  }
 },
 "nbformat": 4,
 "nbformat_minor": 5
}
