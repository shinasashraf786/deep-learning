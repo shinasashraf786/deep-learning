{
 "cells": [
  {
   "cell_type": "code",
   "execution_count": null,
   "id": "fcd390cc-0a9a-4196-97ea-9d965250e72b",
   "metadata": {},
   "outputs": [],
   "source": [
    "from keras.models import load_model\n",
    "from keras.preprocessing.image import img_to_array\n",
    "import numpy as np\n",
    "import cv2"
   ]
  },
  {
   "cell_type": "code",
   "execution_count": null,
   "id": "53cfd113-729b-412d-9f03-4622047eafb1",
   "metadata": {},
   "outputs": [],
   "source": [
    "\n",
    "model=load_model('mask_modle.h5')\n",
    "\n",
    "face_clsfr = cv2.CascadeClassifier('haarcascade_frontalface_default.xml')\n",
    "\n",
    "source = cv2.VideoCapture()\n",
    "\n",
    "labels={0:'mask_weared_incorrect',1:'without_mask',2:'with_mask'}\n",
    "\n",
    "label_dict={0:(0,0,255),1:(255,0,0),2:(0,255,0)}"
   ]
  },
  {
   "cell_type": "code",
   "execution_count": null,
   "id": "f470aa60-e30e-44b3-950d-e75df1c8b546",
   "metadata": {},
   "outputs": [],
   "source": [
    "while(True):\n",
    "    ret,img=source.read()\n",
    "    gray = cv2.cvtColor(img,cv2.COLOR_BGR2GRAY)\n",
    "    faces = face_clsfr.detectMultiScale(gray,1.3,5)\n",
    "\n",
    "    \n",
    "    for (x,y,w,h) in faces:\n",
    "\n",
    "        face_img=gray[y:y+w,x:x+h]\n",
    "        resized=cv2.resize(face_img,(100,100))\n",
    "        normalized=resized/255\n",
    "\n",
    "        reshaped= np.reshape(normalized,(1,100,100,1))\n",
    "\n",
    "        result = model.predict(reshaped)\n",
    "    \n",
    "        label = np.argmax(result,axis =1)[0]\n",
    "\n",
    "        cv2.rectangle(img,(x,y),(x+w,y+h),label_dict[label],2)\n",
    "    \n",
    "        cv2.putText(img,labels[label],(x,y-10),cv2.FONT_HERSHEY_SIMPLEX,0.8,(255,255,255),2)\n",
    "        \n",
    "    cv2.imshow('mask detection',img)\n",
    "    key = cv2.waitKey(1)\n",
    "\n",
    "    if(key==27):\n",
    "        break\n",
    "\n",
    "source.release()\n",
    "\n",
    "cv2.destroyAllWindows()\n",
    "    \n",
    "\n",
    "\n"
   ]
  },
  {
   "cell_type": "code",
   "execution_count": null,
   "id": "2c83aad3-a33a-425e-91be-c0fbd86b8124",
   "metadata": {},
   "outputs": [],
   "source": []
  },
  {
   "cell_type": "code",
   "execution_count": null,
   "id": "971e039e",
   "metadata": {},
   "outputs": [],
   "source": []
  }
 ],
 "metadata": {
  "kernelspec": {
   "display_name": "Python 3 (ipykernel)",
   "language": "python",
   "name": "python3"
  },
  "language_info": {
   "codemirror_mode": {
    "name": "ipython",
    "version": 3
   },
   "file_extension": ".py",
   "mimetype": "text/x-python",
   "name": "python",
   "nbconvert_exporter": "python",
   "pygments_lexer": "ipython3",
   "version": "3.11.5"
  }
 },
 "nbformat": 4,
 "nbformat_minor": 5
}
