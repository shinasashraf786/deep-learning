{
 "cells": [
  {
   "cell_type": "code",
   "execution_count": 6,
   "id": "19bb873a",
   "metadata": {},
   "outputs": [],
   "source": [
    "from keras.models import load_model\n",
    "from keras.preprocessing.image import img_to_array\n",
    "import numpy as np\n",
    "import cv2"
   ]
  },
  {
   "cell_type": "code",
   "execution_count": 7,
   "id": "51255670",
   "metadata": {},
   "outputs": [
    {
     "name": "stderr",
     "output_type": "stream",
     "text": [
      "OpenCV: not authorized to capture video (status 0), requesting...\n",
      "OpenCV: camera failed to properly initialize!\n"
     ]
    }
   ],
   "source": [
    "model = load_model('mask_modle.h5')\n",
    "\n",
    "face_clsfr=cv2.CascadeClassifier('haarcascade_frontalface_default.xml')\n",
    "\n",
    "source = cv2.VideoCapture(0)\n",
    "\n",
    "labels={0:'mask_weared_incorrect', 1:'without_mask',2:'with_mask'}\n",
    "\n",
    "labels_dict={0:(0,0,255),1:(255,0,0),2:(0,255,0)}"
   ]
  },
  {
   "cell_type": "markdown",
   "id": "76576caf",
   "metadata": {},
   "source": [
    "The source.read()function is typically used to read a frame from a video capture source,such as camera or a video \n",
    "file.This function returns two values :ret and img\n",
    "\n",
    "ret: It is a boolean value that indicates "
   ]
  },
  {
   "cell_type": "code",
   "execution_count": 9,
   "id": "ea44765e",
   "metadata": {},
   "outputs": [
    {
     "name": "stderr",
     "output_type": "stream",
     "text": [
      "<>:17: SyntaxWarning: 'tuple' object is not callable; perhaps you missed a comma?\n",
      "<>:17: SyntaxWarning: 'tuple' object is not callable; perhaps you missed a comma?\n",
      "/var/folders/4g/m51tcqcx2jv621yd7trnjv5w0000gn/T/ipykernel_48891/889585893.py:17: SyntaxWarning: 'tuple' object is not callable; perhaps you missed a comma?\n",
      "  cv2.rectangle(img,(x,y)(x+w,y+h).labels_dict[label],2)\n",
      "/var/folders/4g/m51tcqcx2jv621yd7trnjv5w0000gn/T/ipykernel_48891/889585893.py:17: SyntaxWarning: 'tuple' object is not callable; perhaps you missed a comma?\n",
      "  cv2.rectangle(img,(x,y)(x+w,y+h).labels_dict[label],2)\n",
      "/var/folders/4g/m51tcqcx2jv621yd7trnjv5w0000gn/T/ipykernel_48891/889585893.py:17: SyntaxWarning: 'tuple' object is not callable; perhaps you missed a comma?\n",
      "  cv2.rectangle(img,(x,y)(x+w,y+h).labels_dict[label],2)\n",
      "/var/folders/4g/m51tcqcx2jv621yd7trnjv5w0000gn/T/ipykernel_48891/889585893.py:17: SyntaxWarning: 'tuple' object is not callable; perhaps you missed a comma?\n",
      "  cv2.rectangle(img,(x,y)(x+w,y+h).labels_dict[label],2)\n",
      "/var/folders/4g/m51tcqcx2jv621yd7trnjv5w0000gn/T/ipykernel_48891/889585893.py:17: SyntaxWarning: 'tuple' object is not callable; perhaps you missed a comma?\n",
      "  cv2.rectangle(img,(x,y)(x+w,y+h).labels_dict[label],2)\n"
     ]
    },
    {
     "ename": "AttributeError",
     "evalue": "module 'cv2' has no attribute 'COLOR_BRG2GRAY'",
     "output_type": "error",
     "traceback": [
      "\u001b[0;31m---------------------------------------------------------------------------\u001b[0m",
      "\u001b[0;31mAttributeError\u001b[0m                            Traceback (most recent call last)",
      "Cell \u001b[0;32mIn[9], line 3\u001b[0m\n\u001b[1;32m      1\u001b[0m \u001b[38;5;28;01mwhile\u001b[39;00m(\u001b[38;5;28;01mTrue\u001b[39;00m):\n\u001b[1;32m      2\u001b[0m     ret,img \u001b[38;5;241m=\u001b[39m source\u001b[38;5;241m.\u001b[39mread()\n\u001b[0;32m----> 3\u001b[0m     gray \u001b[38;5;241m=\u001b[39m cv2\u001b[38;5;241m.\u001b[39mcvtColor(img,cv2\u001b[38;5;241m.\u001b[39mCOLOR_BRG2GRAY)\n\u001b[1;32m      4\u001b[0m     faces \u001b[38;5;241m=\u001b[39m face_clsfr\u001b[38;5;241m.\u001b[39mdetectMultiScale(gray,\u001b[38;5;241m1\u001b[39m,\u001b[38;5;241m3\u001b[39m,\u001b[38;5;241m5\u001b[39m)\n\u001b[1;32m      6\u001b[0m     \u001b[38;5;28;01mfor\u001b[39;00m (x,y,w,h) \u001b[38;5;129;01min\u001b[39;00m faces:\n",
      "\u001b[0;31mAttributeError\u001b[0m: module 'cv2' has no attribute 'COLOR_BRG2GRAY'"
     ]
    }
   ],
   "source": [
    "while(True):\n",
    "    ret,img = source.read()\n",
    "    gray = cv2.cvtColor(img,cv2.COLOR_BRG2GRAY)\n",
    "    faces = face_clsfr.detectMultiScale(gray,1,3,5)\n",
    "    \n",
    "    for (x,y,w,h) in faces:\n",
    "        \n",
    "        face_img = gray[y:y+h,x:x+w]\n",
    "        resized=cv2.resize(face_img,(100,100))\n",
    "        normalized=resized/255.0\n",
    "        #normalized=img_to_array(normalized)\n",
    "        reshaped=np.reshape(normalized,(1,100,100,1))\n",
    "        result=model.predict(reshaped)\n",
    "        \n",
    "        label=np.argmax(result,axis=1)[0]\n",
    "        \n",
    "        cv2.rectangle(img,(x,y)(x+w,y+h).labels_dict[label],2)\n",
    "        \n",
    "        cv2.putText(img, labels[label], (x,y-10),cv2.FONT_HERSHEY_SIMPLEX,0.8,(255,255,255),2)\n",
    "        \n",
    "    cv2.imshow('mask detection',img)\n",
    "    key=cv2.waitKey(1)\n",
    "    \n",
    "    if(key==27):\n",
    "        break\n",
    "        \n",
    "    source.release()\n",
    "    cv2.destroyAllWindows()"
   ]
  },
  {
   "cell_type": "code",
   "execution_count": null,
   "id": "ba9905a2",
   "metadata": {},
   "outputs": [],
   "source": []
  }
 ],
 "metadata": {
  "kernelspec": {
   "display_name": "Python 3 (ipykernel)",
   "language": "python",
   "name": "python3"
  },
  "language_info": {
   "codemirror_mode": {
    "name": "ipython",
    "version": 3
   },
   "file_extension": ".py",
   "mimetype": "text/x-python",
   "name": "python",
   "nbconvert_exporter": "python",
   "pygments_lexer": "ipython3",
   "version": "3.11.5"
  }
 },
 "nbformat": 4,
 "nbformat_minor": 5
}
